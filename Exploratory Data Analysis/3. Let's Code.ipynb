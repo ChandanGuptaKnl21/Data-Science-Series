{
 "cells": [
  {
   "cell_type": "code",
   "execution_count": 1,
   "metadata": {},
   "outputs": [],
   "source": [
    "#importing required libraries for this case study\n",
    "import pandas as pd\n",
    "import seaborn as sbn\n",
    "import numpy as np\n",
    "import matplotlib.pyplot as plt\n",
    "pd.set_option('display.max_rows',500)\n",
    "pd.set_option('display.max_columns',500)\n",
    "pd.set_option('display.width',500)\n",
    "pd.set_option('max_info_columns',500)"
   ]
  },
  {
   "cell_type": "code",
   "execution_count": 2,
   "metadata": {},
   "outputs": [
    {
     "ename": "FileNotFoundError",
     "evalue": "[Errno 2] File b'/Users/suraajhasija/Desktop/Python-Basics/EDA Case Study/application_data.csv' does not exist: b'/Users/suraajhasija/Desktop/Python-Basics/EDA Case Study/application_data.csv'",
     "output_type": "error",
     "traceback": [
      "\u001b[0;31m---------------------------------------------------------------------------\u001b[0m",
      "\u001b[0;31mFileNotFoundError\u001b[0m                         Traceback (most recent call last)",
      "\u001b[0;32m<ipython-input-2-48c2966ac23c>\u001b[0m in \u001b[0;36m<module>\u001b[0;34m\u001b[0m\n\u001b[1;32m      1\u001b[0m \u001b[0;31m#Importing the applications data file\u001b[0m\u001b[0;34m\u001b[0m\u001b[0;34m\u001b[0m\u001b[0;34m\u001b[0m\u001b[0m\n\u001b[0;32m----> 2\u001b[0;31m \u001b[0mapplications\u001b[0m\u001b[0;34m=\u001b[0m\u001b[0mpd\u001b[0m\u001b[0;34m.\u001b[0m\u001b[0mread_csv\u001b[0m\u001b[0;34m(\u001b[0m\u001b[0;34m'/Users/suraajhasija/Desktop/Python-Basics/EDA Case Study/application_data.csv'\u001b[0m\u001b[0;34m)\u001b[0m\u001b[0;34m\u001b[0m\u001b[0;34m\u001b[0m\u001b[0m\n\u001b[0m",
      "\u001b[0;32m~/anaconda3/lib/python3.7/site-packages/pandas/io/parsers.py\u001b[0m in \u001b[0;36mparser_f\u001b[0;34m(filepath_or_buffer, sep, delimiter, header, names, index_col, usecols, squeeze, prefix, mangle_dupe_cols, dtype, engine, converters, true_values, false_values, skipinitialspace, skiprows, skipfooter, nrows, na_values, keep_default_na, na_filter, verbose, skip_blank_lines, parse_dates, infer_datetime_format, keep_date_col, date_parser, dayfirst, iterator, chunksize, compression, thousands, decimal, lineterminator, quotechar, quoting, doublequote, escapechar, comment, encoding, dialect, tupleize_cols, error_bad_lines, warn_bad_lines, delim_whitespace, low_memory, memory_map, float_precision)\u001b[0m\n\u001b[1;32m    700\u001b[0m                     skip_blank_lines=skip_blank_lines)\n\u001b[1;32m    701\u001b[0m \u001b[0;34m\u001b[0m\u001b[0m\n\u001b[0;32m--> 702\u001b[0;31m         \u001b[0;32mreturn\u001b[0m \u001b[0m_read\u001b[0m\u001b[0;34m(\u001b[0m\u001b[0mfilepath_or_buffer\u001b[0m\u001b[0;34m,\u001b[0m \u001b[0mkwds\u001b[0m\u001b[0;34m)\u001b[0m\u001b[0;34m\u001b[0m\u001b[0;34m\u001b[0m\u001b[0m\n\u001b[0m\u001b[1;32m    703\u001b[0m \u001b[0;34m\u001b[0m\u001b[0m\n\u001b[1;32m    704\u001b[0m     \u001b[0mparser_f\u001b[0m\u001b[0;34m.\u001b[0m\u001b[0m__name__\u001b[0m \u001b[0;34m=\u001b[0m \u001b[0mname\u001b[0m\u001b[0;34m\u001b[0m\u001b[0;34m\u001b[0m\u001b[0m\n",
      "\u001b[0;32m~/anaconda3/lib/python3.7/site-packages/pandas/io/parsers.py\u001b[0m in \u001b[0;36m_read\u001b[0;34m(filepath_or_buffer, kwds)\u001b[0m\n\u001b[1;32m    427\u001b[0m \u001b[0;34m\u001b[0m\u001b[0m\n\u001b[1;32m    428\u001b[0m     \u001b[0;31m# Create the parser.\u001b[0m\u001b[0;34m\u001b[0m\u001b[0;34m\u001b[0m\u001b[0;34m\u001b[0m\u001b[0m\n\u001b[0;32m--> 429\u001b[0;31m     \u001b[0mparser\u001b[0m \u001b[0;34m=\u001b[0m \u001b[0mTextFileReader\u001b[0m\u001b[0;34m(\u001b[0m\u001b[0mfilepath_or_buffer\u001b[0m\u001b[0;34m,\u001b[0m \u001b[0;34m**\u001b[0m\u001b[0mkwds\u001b[0m\u001b[0;34m)\u001b[0m\u001b[0;34m\u001b[0m\u001b[0;34m\u001b[0m\u001b[0m\n\u001b[0m\u001b[1;32m    430\u001b[0m \u001b[0;34m\u001b[0m\u001b[0m\n\u001b[1;32m    431\u001b[0m     \u001b[0;32mif\u001b[0m \u001b[0mchunksize\u001b[0m \u001b[0;32mor\u001b[0m \u001b[0miterator\u001b[0m\u001b[0;34m:\u001b[0m\u001b[0;34m\u001b[0m\u001b[0;34m\u001b[0m\u001b[0m\n",
      "\u001b[0;32m~/anaconda3/lib/python3.7/site-packages/pandas/io/parsers.py\u001b[0m in \u001b[0;36m__init__\u001b[0;34m(self, f, engine, **kwds)\u001b[0m\n\u001b[1;32m    893\u001b[0m             \u001b[0mself\u001b[0m\u001b[0;34m.\u001b[0m\u001b[0moptions\u001b[0m\u001b[0;34m[\u001b[0m\u001b[0;34m'has_index_names'\u001b[0m\u001b[0;34m]\u001b[0m \u001b[0;34m=\u001b[0m \u001b[0mkwds\u001b[0m\u001b[0;34m[\u001b[0m\u001b[0;34m'has_index_names'\u001b[0m\u001b[0;34m]\u001b[0m\u001b[0;34m\u001b[0m\u001b[0;34m\u001b[0m\u001b[0m\n\u001b[1;32m    894\u001b[0m \u001b[0;34m\u001b[0m\u001b[0m\n\u001b[0;32m--> 895\u001b[0;31m         \u001b[0mself\u001b[0m\u001b[0;34m.\u001b[0m\u001b[0m_make_engine\u001b[0m\u001b[0;34m(\u001b[0m\u001b[0mself\u001b[0m\u001b[0;34m.\u001b[0m\u001b[0mengine\u001b[0m\u001b[0;34m)\u001b[0m\u001b[0;34m\u001b[0m\u001b[0;34m\u001b[0m\u001b[0m\n\u001b[0m\u001b[1;32m    896\u001b[0m \u001b[0;34m\u001b[0m\u001b[0m\n\u001b[1;32m    897\u001b[0m     \u001b[0;32mdef\u001b[0m \u001b[0mclose\u001b[0m\u001b[0;34m(\u001b[0m\u001b[0mself\u001b[0m\u001b[0;34m)\u001b[0m\u001b[0;34m:\u001b[0m\u001b[0;34m\u001b[0m\u001b[0;34m\u001b[0m\u001b[0m\n",
      "\u001b[0;32m~/anaconda3/lib/python3.7/site-packages/pandas/io/parsers.py\u001b[0m in \u001b[0;36m_make_engine\u001b[0;34m(self, engine)\u001b[0m\n\u001b[1;32m   1120\u001b[0m     \u001b[0;32mdef\u001b[0m \u001b[0m_make_engine\u001b[0m\u001b[0;34m(\u001b[0m\u001b[0mself\u001b[0m\u001b[0;34m,\u001b[0m \u001b[0mengine\u001b[0m\u001b[0;34m=\u001b[0m\u001b[0;34m'c'\u001b[0m\u001b[0;34m)\u001b[0m\u001b[0;34m:\u001b[0m\u001b[0;34m\u001b[0m\u001b[0;34m\u001b[0m\u001b[0m\n\u001b[1;32m   1121\u001b[0m         \u001b[0;32mif\u001b[0m \u001b[0mengine\u001b[0m \u001b[0;34m==\u001b[0m \u001b[0;34m'c'\u001b[0m\u001b[0;34m:\u001b[0m\u001b[0;34m\u001b[0m\u001b[0;34m\u001b[0m\u001b[0m\n\u001b[0;32m-> 1122\u001b[0;31m             \u001b[0mself\u001b[0m\u001b[0;34m.\u001b[0m\u001b[0m_engine\u001b[0m \u001b[0;34m=\u001b[0m \u001b[0mCParserWrapper\u001b[0m\u001b[0;34m(\u001b[0m\u001b[0mself\u001b[0m\u001b[0;34m.\u001b[0m\u001b[0mf\u001b[0m\u001b[0;34m,\u001b[0m \u001b[0;34m**\u001b[0m\u001b[0mself\u001b[0m\u001b[0;34m.\u001b[0m\u001b[0moptions\u001b[0m\u001b[0;34m)\u001b[0m\u001b[0;34m\u001b[0m\u001b[0;34m\u001b[0m\u001b[0m\n\u001b[0m\u001b[1;32m   1123\u001b[0m         \u001b[0;32melse\u001b[0m\u001b[0;34m:\u001b[0m\u001b[0;34m\u001b[0m\u001b[0;34m\u001b[0m\u001b[0m\n\u001b[1;32m   1124\u001b[0m             \u001b[0;32mif\u001b[0m \u001b[0mengine\u001b[0m \u001b[0;34m==\u001b[0m \u001b[0;34m'python'\u001b[0m\u001b[0;34m:\u001b[0m\u001b[0;34m\u001b[0m\u001b[0;34m\u001b[0m\u001b[0m\n",
      "\u001b[0;32m~/anaconda3/lib/python3.7/site-packages/pandas/io/parsers.py\u001b[0m in \u001b[0;36m__init__\u001b[0;34m(self, src, **kwds)\u001b[0m\n\u001b[1;32m   1851\u001b[0m         \u001b[0mkwds\u001b[0m\u001b[0;34m[\u001b[0m\u001b[0;34m'usecols'\u001b[0m\u001b[0;34m]\u001b[0m \u001b[0;34m=\u001b[0m \u001b[0mself\u001b[0m\u001b[0;34m.\u001b[0m\u001b[0musecols\u001b[0m\u001b[0;34m\u001b[0m\u001b[0;34m\u001b[0m\u001b[0m\n\u001b[1;32m   1852\u001b[0m \u001b[0;34m\u001b[0m\u001b[0m\n\u001b[0;32m-> 1853\u001b[0;31m         \u001b[0mself\u001b[0m\u001b[0;34m.\u001b[0m\u001b[0m_reader\u001b[0m \u001b[0;34m=\u001b[0m \u001b[0mparsers\u001b[0m\u001b[0;34m.\u001b[0m\u001b[0mTextReader\u001b[0m\u001b[0;34m(\u001b[0m\u001b[0msrc\u001b[0m\u001b[0;34m,\u001b[0m \u001b[0;34m**\u001b[0m\u001b[0mkwds\u001b[0m\u001b[0;34m)\u001b[0m\u001b[0;34m\u001b[0m\u001b[0;34m\u001b[0m\u001b[0m\n\u001b[0m\u001b[1;32m   1854\u001b[0m         \u001b[0mself\u001b[0m\u001b[0;34m.\u001b[0m\u001b[0munnamed_cols\u001b[0m \u001b[0;34m=\u001b[0m \u001b[0mself\u001b[0m\u001b[0;34m.\u001b[0m\u001b[0m_reader\u001b[0m\u001b[0;34m.\u001b[0m\u001b[0munnamed_cols\u001b[0m\u001b[0;34m\u001b[0m\u001b[0;34m\u001b[0m\u001b[0m\n\u001b[1;32m   1855\u001b[0m \u001b[0;34m\u001b[0m\u001b[0m\n",
      "\u001b[0;32mpandas/_libs/parsers.pyx\u001b[0m in \u001b[0;36mpandas._libs.parsers.TextReader.__cinit__\u001b[0;34m()\u001b[0m\n",
      "\u001b[0;32mpandas/_libs/parsers.pyx\u001b[0m in \u001b[0;36mpandas._libs.parsers.TextReader._setup_parser_source\u001b[0;34m()\u001b[0m\n",
      "\u001b[0;31mFileNotFoundError\u001b[0m: [Errno 2] File b'/Users/suraajhasija/Desktop/Python-Basics/EDA Case Study/application_data.csv' does not exist: b'/Users/suraajhasija/Desktop/Python-Basics/EDA Case Study/application_data.csv'"
     ]
    }
   ],
   "source": [
    "#Importing the applications data file \n",
    "applications=pd.read_csv('/Users/suraajhasija/Desktop/Python-Basics/EDA Case Study/application_data.csv')"
   ]
  },
  {
   "cell_type": "code",
   "execution_count": null,
   "metadata": {},
   "outputs": [],
   "source": [
    "#basic data checks \n",
    "applications.head()"
   ]
  },
  {
   "cell_type": "code",
   "execution_count": null,
   "metadata": {},
   "outputs": [],
   "source": [
    "#checking the shape of the dataframe\n",
    "applications.shape"
   ]
  },
  {
   "cell_type": "code",
   "execution_count": null,
   "metadata": {},
   "outputs": [],
   "source": [
    "#to check null percentage\n",
    "xx=applications.isnull().sum()/len(applications.index)*100\n",
    "xx"
   ]
  },
  {
   "cell_type": "code",
   "execution_count": null,
   "metadata": {},
   "outputs": [],
   "source": [
    "#dropping columns with null % greater than 50%\n",
    "cols_to_drop=xx[xx>50].index"
   ]
  },
  {
   "cell_type": "code",
   "execution_count": null,
   "metadata": {},
   "outputs": [],
   "source": [
    "app=applications.drop(columns=cols_to_drop)"
   ]
  },
  {
   "cell_type": "code",
   "execution_count": null,
   "metadata": {
    "scrolled": true
   },
   "outputs": [],
   "source": [
    "#Now again checking the percentage of missing values\n",
    "app.isnull().sum()/len(applications.index)*100"
   ]
  },
  {
   "cell_type": "code",
   "execution_count": null,
   "metadata": {
    "scrolled": true
   },
   "outputs": [],
   "source": [
    "#checking for categorical and continuous data\n",
    "app.nunique()"
   ]
  },
  {
   "cell_type": "code",
   "execution_count": null,
   "metadata": {
    "scrolled": true
   },
   "outputs": [],
   "source": [
    "#Checking the categorical colums before imputation of columns with less % of null values (~13%)\n",
    "app['AMT_REQ_CREDIT_BUREAU_DAY'].value_counts()"
   ]
  },
  {
   "cell_type": "code",
   "execution_count": null,
   "metadata": {},
   "outputs": [],
   "source": [
    "#Calculating the mode\n",
    "app_AMT_REQ_CREDIT_BUREAU_HOUR=app['AMT_REQ_CREDIT_BUREAU_HOUR'].mode()[0]\n",
    "app_AMT_REQ_CREDIT_BUREAU_DAY=app['AMT_REQ_CREDIT_BUREAU_DAY'].mode()[0]\n",
    "app_AMT_REQ_CREDIT_BUREAU_WEEK=app['AMT_REQ_CREDIT_BUREAU_WEEK'].mode()[0]\n",
    "app_AMT_REQ_CREDIT_BUREAU_MON=app['AMT_REQ_CREDIT_BUREAU_MON'].mode()[0]\n",
    "app_AMT_REQ_CREDIT_BUREAU_QRT=app['AMT_REQ_CREDIT_BUREAU_QRT'].mode()[0]\n",
    "app_AMT_REQ_CREDIT_BUREAU_YEAR=app['AMT_REQ_CREDIT_BUREAU_YEAR'].mode()[0]\n"
   ]
  },
  {
   "cell_type": "code",
   "execution_count": null,
   "metadata": {},
   "outputs": [],
   "source": [
    "#Reporting the mode\n",
    "print(app_AMT_REQ_CREDIT_BUREAU_HOUR)\n",
    "print(app_AMT_REQ_CREDIT_BUREAU_DAY)\n",
    "print(app_AMT_REQ_CREDIT_BUREAU_WEEK)\n",
    "print(app_AMT_REQ_CREDIT_BUREAU_MON)\n",
    "print(app_AMT_REQ_CREDIT_BUREAU_QRT)\n",
    "print(app_AMT_REQ_CREDIT_BUREAU_YEAR)\n",
    "\n",
    "#only reporting and no imputing\n",
    "#app.loc[app['AMT_REQ_CREDIT_BUREAU_DAY'].isnull(),'AMT_REQ_CREDIT_BUREAU_DAY']=app_AMT_REQ_CREDIT_BUREAU_DAY"
   ]
  },
  {
   "cell_type": "code",
   "execution_count": null,
   "metadata": {},
   "outputs": [],
   "source": [
    "#treating others columns as well (for mode imputation) \n",
    "app_name_type_suite=app['NAME_TYPE_SUITE'].mode()\n",
    "print(app_name_type_suite)\n",
    "\n",
    "##### do for remaining as well?"
   ]
  },
  {
   "cell_type": "code",
   "execution_count": null,
   "metadata": {
    "scrolled": true
   },
   "outputs": [],
   "source": [
    "# checking the data types of the columns\n",
    "app.dtypes   \n"
   ]
  },
  {
   "cell_type": "code",
   "execution_count": null,
   "metadata": {},
   "outputs": [],
   "source": [
    "#outlier in AMT_INCOME_TOTAL\n",
    "app.AMT_INCOME_TOTAL.quantile([0.25,0.5,.75,.95,.99,1])\n",
    "# Outlier Value= 117Mn "
   ]
  },
  {
   "cell_type": "code",
   "execution_count": null,
   "metadata": {},
   "outputs": [],
   "source": [
    "#Visualization (BoxPlot) to check outliers in AMT_INCOME_TOTAL\n",
    "sbn.boxplot(app.AMT_INCOME_TOTAL)"
   ]
  },
  {
   "cell_type": "code",
   "execution_count": null,
   "metadata": {},
   "outputs": [],
   "source": [
    "# to check outliers in AMT_CREDIT\n",
    "app.AMT_CREDIT.quantile([0.25,0.5,.75,.95,.99,1])"
   ]
  },
  {
   "cell_type": "code",
   "execution_count": null,
   "metadata": {},
   "outputs": [],
   "source": [
    "# Visualization (BoxPlot) to check outliers in AMT_CREDIT\n",
    "plt.figure(figsize=[10,2])\n",
    "sbn.boxplot(app.AMT_CREDIT)\n",
    "plt.show()"
   ]
  },
  {
   "cell_type": "code",
   "execution_count": null,
   "metadata": {},
   "outputs": [],
   "source": [
    "plt.figure(figsize=[10,2])\n",
    "sbn.boxplot(app['AMT_GOODS_PRICE'])"
   ]
  },
  {
   "cell_type": "code",
   "execution_count": null,
   "metadata": {},
   "outputs": [],
   "source": [
    "app.AMT_GOODS_PRICE.quantile([0.25,0.5,.75,.95,.99,1])"
   ]
  },
  {
   "cell_type": "code",
   "execution_count": null,
   "metadata": {},
   "outputs": [],
   "source": [
    "#Treating the outliers\n",
    "appl=app[(app.AMT_CREDIT<=1854000) & (app.AMT_GOODS_PRICE<4050000) & (app.AMT_INCOME_TOTAL<=472500)]"
   ]
  },
  {
   "cell_type": "code",
   "execution_count": null,
   "metadata": {},
   "outputs": [],
   "source": [
    "#Analysing AMT_GOODS_PRICE after removing the outliers\n",
    "appl.AMT_GOODS_PRICE.quantile([0.25,0.5,.75,.95,.99,1])"
   ]
  },
  {
   "cell_type": "code",
   "execution_count": null,
   "metadata": {},
   "outputs": [],
   "source": [
    "#Analysing AMT_CREDIT after removing the outliers\n",
    "appl.AMT_CREDIT.quantile([0.25,0.5,.75,.95,.99,1])"
   ]
  },
  {
   "cell_type": "code",
   "execution_count": null,
   "metadata": {},
   "outputs": [],
   "source": [
    "#Analysing AMT_INCOME_TOTAL after removing the outliers\n",
    "appl.AMT_INCOME_TOTAL.quantile([0.25,0.5,.75,.95,.99,1])"
   ]
  },
  {
   "cell_type": "code",
   "execution_count": null,
   "metadata": {},
   "outputs": [],
   "source": [
    "# dropping unnecessary columns\n",
    "appl.drop(columns=appl.columns[33:39],inplace=True)\n",
    "appl.drop(columns=appl.columns[34:69],inplace=True)"
   ]
  },
  {
   "cell_type": "code",
   "execution_count": null,
   "metadata": {},
   "outputs": [],
   "source": [
    "appl.head()\n"
   ]
  },
  {
   "cell_type": "code",
   "execution_count": null,
   "metadata": {},
   "outputs": [],
   "source": [
    "#Binning- Dividing income into groups\n",
    "plt.figure(figsize=[10,8])\n",
    "sbn.distplot(appl.AMT_INCOME_TOTAL)"
   ]
  },
  {
   "cell_type": "markdown",
   "metadata": {},
   "source": [
    "1) if the distribution is approximately symmetrical (mainly if average similar to mode) and \n",
    "there are no outliers, the cut-off values are given by mean value - 0.25* standard deviation; mean value ± standard deviation* 0.25;\n",
    "\n",
    "2) if the distribution is clearly asymmetric or if there are outliers, the cut-off values are given by: median - 0.25* interquartile range; median +0.25 * interquartile range.\n"
   ]
  },
  {
   "cell_type": "code",
   "execution_count": null,
   "metadata": {},
   "outputs": [],
   "source": [
    "income_med=appl.AMT_INCOME_TOTAL.median()\n",
    "income_quant=appl.AMT_INCOME_TOTAL.quantile(.25)\n",
    "low_income=income_med-income_quant\n",
    "high_income=income_med+income_quant\n",
    "print(low_income)\n",
    "print(high_income)"
   ]
  },
  {
   "cell_type": "code",
   "execution_count": null,
   "metadata": {},
   "outputs": [],
   "source": [
    "#Binning of continuous variables \n",
    "\n",
    "appl.loc[appl['AMT_INCOME_TOTAL']<low_income,'INCOME_GROUP']='low income'\n",
    "appl.loc[(appl['AMT_INCOME_TOTAL']>=low_income) & (appl['AMT_INCOME_TOTAL']<high_income) ,'INCOME_GROUP']='average income'\n",
    "appl.loc[appl['AMT_INCOME_TOTAL']>=high_income,'INCOME_GROUP']='high income'"
   ]
  },
  {
   "cell_type": "code",
   "execution_count": null,
   "metadata": {},
   "outputs": [],
   "source": [
    "#Checking for Imbalance percentage\n",
    "appl['TARGET'].value_counts(normalize=True).plot.bar()\n"
   ]
  },
  {
   "cell_type": "code",
   "execution_count": null,
   "metadata": {},
   "outputs": [],
   "source": [
    "#Checking for Imbalance percentage\n",
    "appl['TARGET'].value_counts(normalize=True)*100"
   ]
  },
  {
   "cell_type": "code",
   "execution_count": null,
   "metadata": {},
   "outputs": [],
   "source": [
    "appl['TARGET'].value_counts()"
   ]
  },
  {
   "cell_type": "code",
   "execution_count": null,
   "metadata": {},
   "outputs": [],
   "source": [
    "#Dividing the data into two subsets based on targets\n",
    "applT1=appl[appl['TARGET']==1]\n",
    "applT0=appl[appl['TARGET']==0]"
   ]
  },
  {
   "cell_type": "code",
   "execution_count": null,
   "metadata": {
    "scrolled": true
   },
   "outputs": [],
   "source": [
    "#to check categorical and non categorical data\n",
    "appl.nunique()"
   ]
  },
  {
   "cell_type": "code",
   "execution_count": null,
   "metadata": {},
   "outputs": [],
   "source": [
    "#Plot for Occupation Type\n",
    "#Univariate analysis of categorical data\n",
    "fig = plt.figure(figsize=[15,7])\n",
    "plt.subplot(1, 2, 1)\n",
    "\n",
    "\n",
    "applT1['OCCUPATION_TYPE'].value_counts().sort_values(ascending=False).plot.bar(color='r')\n",
    "plt.title('Target 1')\n",
    "\n",
    "plt.subplot(1, 2, 2)\n",
    "applT0['OCCUPATION_TYPE'].value_counts().sort_values(ascending=False).plot.bar()\n",
    "plt.title('Target 0')\n",
    "plt.show()\n",
    "plt.tight_layout(fig)"
   ]
  },
  {
   "cell_type": "code",
   "execution_count": null,
   "metadata": {},
   "outputs": [],
   "source": [
    "#Plot for Income Type\n",
    "#univariate - categorical analysis\n",
    "fig = plt.figure(figsize=[15,7])\n",
    "plt.subplot(1, 2, 1)\n",
    "\n",
    "\n",
    "applT1['NAME_INCOME_TYPE'].value_counts().sort_values(ascending=False).plot.bar(color='r')\n",
    "plt.title('Target 1')\n",
    "\n",
    "plt.subplot(1, 2, 2)\n",
    "applT0['NAME_INCOME_TYPE'].value_counts().sort_values(ascending=False).plot.bar()\n",
    "plt.title('Target 0')\n",
    "plt.show()\n",
    "plt.tight_layout(fig)"
   ]
  },
  {
   "cell_type": "code",
   "execution_count": null,
   "metadata": {},
   "outputs": [],
   "source": [
    "#Plot for Education Type\n",
    "#univariate - categorical analysis\n",
    "fig = plt.figure(figsize=[15,7])\n",
    "plt.subplot(1, 2, 1)\n",
    "\n",
    "\n",
    "applT1['NAME_EDUCATION_TYPE'].value_counts().sort_values(ascending=False).plot.bar(color='r')\n",
    "plt.title('Target 1')\n",
    "\n",
    "plt.subplot(1, 2, 2)\n",
    "applT0['NAME_EDUCATION_TYPE'].value_counts().sort_values(ascending=False).plot.bar()\n",
    "plt.title('Target 0')\n",
    "plt.show()\n",
    "plt.tight_layout(fig)"
   ]
  },
  {
   "cell_type": "code",
   "execution_count": null,
   "metadata": {},
   "outputs": [],
   "source": [
    "#Plot for family status\n",
    "#univariate - categorical analysis\n",
    "fig = plt.figure(figsize=[15,7])\n",
    "plt.subplot(1, 2, 1)\n",
    "\n",
    "\n",
    "applT1['NAME_FAMILY_STATUS'].value_counts().sort_values(ascending=False).plot.bar()\n",
    "plt.title('Target 1')\n",
    "\n",
    "plt.subplot(1, 2, 2)\n",
    "applT0['NAME_FAMILY_STATUS'].value_counts().sort_values(ascending=False).plot.bar(color='r')\n",
    "plt.title('Target 0')\n",
    "plt.show()\n",
    "plt.tight_layout(fig)"
   ]
  },
  {
   "cell_type": "code",
   "execution_count": null,
   "metadata": {},
   "outputs": [],
   "source": [
    "#Population composition (Gendee- univariate analysis)\n",
    "fig = plt.figure(figsize=[15,7])\n",
    "plt.subplot(1, 2, 1)\n",
    "\n",
    "\n",
    "#applT1['CODE_GENDER'].value_counts().sort_values(ascending=False).plot.bar(color='r')\n",
    "#print(applT1['CODE_GENDER'].value_counts(normalize=True))\n",
    "plt.pie(applT1['CODE_GENDER'].value_counts(normalize=True), autopct = '%1.1f%%', labels= applT1['CODE_GENDER'].value_counts().index )\n",
    "plt.title('Target 1')\n",
    "\n",
    "plt.subplot(1, 2, 2)\n",
    "plt.pie(applT0['CODE_GENDER'].value_counts(normalize=True), autopct = '%1.1f%%', labels= applT0['CODE_GENDER'].value_counts().index )\n",
    "\n",
    "plt.title('Target 0')\n",
    "plt.show()\n",
    "plt.tight_layout(fig)"
   ]
  },
  {
   "cell_type": "code",
   "execution_count": null,
   "metadata": {},
   "outputs": [],
   "source": [
    "#univariate analysis of Annuity (distplot or boxplots)\n",
    "\n",
    "\n",
    "fig = plt.figure(figsize=[15,7])\n",
    "plt.subplot(1, 2, 1)\n",
    "\n",
    "\n",
    "sbn.distplot(applT1['AMT_ANNUITY'], color='r')\n",
    "#print(applT1['CODE_GENDER'].value_counts(normalize=True))\n",
    "#plt.pie(applT1['CODE_GENDER'].value_counts(normalize=True) )\n",
    "plt.title('Target 1')\n",
    "\n",
    "plt.subplot(1, 2, 2)\n",
    "sbn.distplot(applT1['AMT_ANNUITY'])\n",
    "plt.title('Target 0')\n",
    "plt.show()\n",
    "plt.tight_layout(fig)\n",
    "\n",
    "\n",
    "fig = plt.figure(figsize=[15,7])\n",
    "plt.subplot(1, 2, 1)\n",
    "\n",
    "\n",
    "sbn.boxplot(applT1['AMT_ANNUITY'], color='r')\n",
    "#print(applT1['CODE_GENDER'].value_counts(normalize=True))\n",
    "#plt.pie(applT1['CODE_GENDER'].value_counts(normalize=True) )\n",
    "plt.title('Target 1')\n",
    "\n",
    "plt.subplot(1, 2, 2)\n",
    "sbn.boxplot(applT0['AMT_ANNUITY'])\n",
    "plt.title('Target 0')\n",
    "plt.show()\n",
    "plt.tight_layout(fig)\n",
    "\n",
    "\n"
   ]
  },
  {
   "cell_type": "code",
   "execution_count": null,
   "metadata": {},
   "outputs": [],
   "source": [
    "#density plot for income total by gender in current application\n",
    "#univariate - continuous analysis\n",
    "\n",
    "fig = plt.figure(figsize=[15,7])\n",
    "plt.subplot(1, 2, 1)\n",
    "\n",
    "\n",
    "for i in applT1['CODE_GENDER'].unique():\n",
    "    subset=applT1[applT1['CODE_GENDER']==i]\n",
    "    sbn.distplot(subset['AMT_INCOME_TOTAL'],hist=False, label=i)\n",
    "#print(applT1['CODE_GENDER'].value_counts(normalize=True))\n",
    "#plt.pie(applT1['CODE_GENDER'].value_counts(normalize=True) )\n",
    "plt.title('Target 1')\n",
    "\n",
    "\n",
    "\n",
    "\n",
    "plt.subplot(1, 2, 2)\n",
    "\n",
    "for i in applT0['CODE_GENDER'].unique():\n",
    "    subset=applT0[applT0['CODE_GENDER']==i]\n",
    "    sbn.distplot(subset['AMT_INCOME_TOTAL'],hist=False, label=i)\n",
    "    \n",
    "plt.title('Target 1')\n",
    "\n",
    "plt.title('Target 0')\n",
    "plt.show()\n",
    "plt.tight_layout(fig)\n",
    "\n",
    "\n"
   ]
  },
  {
   "cell_type": "code",
   "execution_count": null,
   "metadata": {},
   "outputs": [],
   "source": [
    "#density plot for credit amount in current application\n",
    "#univariate - continuous analysis\n",
    "\n",
    "fig = plt.figure(figsize=[15,7])\n",
    "plt.subplot(1, 2, 1)\n",
    "\n",
    "\n",
    "sbn.distplot(applT1['AMT_CREDIT'], color='r')\n",
    "#print(applT1['CODE_GENDER'].value_counts(normalize=True))\n",
    "#plt.pie(applT1['CODE_GENDER'].value_counts(normalize=True) )\n",
    "plt.title('Target 1')\n",
    "\n",
    "plt.subplot(1, 2, 2)\n",
    "sbn.distplot(applT0['AMT_CREDIT'])\n",
    "plt.title('Target 0')\n",
    "plt.show()\n",
    "plt.tight_layout(fig)\n",
    "\n"
   ]
  },
  {
   "cell_type": "code",
   "execution_count": null,
   "metadata": {},
   "outputs": [],
   "source": [
    "#density plot for goods price in current application\n",
    "#univariate - continuous analysis\n",
    "fig = plt.figure(figsize=[15,7])\n",
    "plt.subplot(1, 2, 1)\n",
    "sbn.distplot(applT1['AMT_GOODS_PRICE'], color='r')\n",
    "plt.title('Target 1')\n",
    "\n",
    "plt.subplot(1, 2, 2)\n",
    "sbn.distplot(applT0['AMT_GOODS_PRICE'])\n",
    "plt.title('Target 0')\n",
    "plt.show()\n",
    "plt.tight_layout(fig)\n",
    "\n"
   ]
  },
  {
   "cell_type": "code",
   "execution_count": null,
   "metadata": {},
   "outputs": [],
   "source": [
    "#Filling NA occupation type with unknown\n",
    "applT1['OCCUPATION_TYPE']=applT1['OCCUPATION_TYPE'].fillna('Unknown')\n",
    "applT0['OCCUPATION_TYPE']=applT0['OCCUPATION_TYPE'].fillna('Unknown')"
   ]
  },
  {
   "cell_type": "code",
   "execution_count": null,
   "metadata": {},
   "outputs": [],
   "source": [
    "#bivariate analysis of AMT_CREDIT and Occupation Type\n",
    "#categorical- continuous\n",
    "\n",
    "plt.figure(figsize=[15,15])\n",
    "sbn.set(style=\"whitegrid\", color_codes=True)\n",
    "plt.subplot(2, 2, 1)\n",
    "\n",
    "\n",
    "#chart= sbn.barplot(y=applT1['AMT_ANNUITY'],x=applT1['OCCUPATION_TYPE'],palette=\"Blues\", )\n",
    "#chart.set_xticklabels(chart.get_xticklabels(), rotation=45, horizontalalignment='right')\n",
    "\n",
    "m=applT1.groupby('OCCUPATION_TYPE').sum()['AMT_CREDIT'].sort_values(ascending=False).reset_index()\n",
    "chart=sbn.barplot(y=m['AMT_CREDIT'],x=m['OCCUPATION_TYPE'], palette='Greens_d')\n",
    "chart.set_xticklabels(chart.get_xticklabels(), rotation=45, horizontalalignment='right')\n",
    "\n",
    "plt.yscale('log')\n",
    "plt.title('Target 1')\n",
    "\n",
    "\n",
    "plt.subplot(2, 2, 2)\n",
    "\n",
    "\n",
    "\n",
    "n=applT0.groupby('OCCUPATION_TYPE').sum()['AMT_CREDIT'].sort_values(ascending=False).reset_index()\n",
    "chart=sbn.barplot(y=n['AMT_CREDIT'],x=n['OCCUPATION_TYPE'], palette='GnBu_d')\n",
    "chart.set_xticklabels(chart.get_xticklabels(), rotation=45, horizontalalignment='right')\n",
    "\n",
    "plt.yscale('log')\n",
    "plt.title('Target 0')\n"
   ]
  },
  {
   "cell_type": "code",
   "execution_count": null,
   "metadata": {},
   "outputs": [],
   "source": [
    "#bivariate analysis of Annuity and Occupation Type\n",
    "#categorical- continuous\n",
    "\n",
    "plt.figure(figsize=[15,15])\n",
    "sbn.set(style=\"whitegrid\", color_codes=True)\n",
    "\n",
    "plt.subplot(2, 2, 1)\n",
    "\n",
    "\n",
    "#chart= sbn.barplot(y=applT1['AMT_ANNUITY'],x=applT1['OCCUPATION_TYPE'],palette=\"Blues\", )\n",
    "#chart.set_xticklabels(chart.get_xticklabels(), rotation=45, horizontalalignment='right')\n",
    "\n",
    "m=applT1.groupby('OCCUPATION_TYPE').sum()['AMT_ANNUITY'].sort_values(ascending=False).reset_index()\n",
    "chart=sbn.barplot(y=m['AMT_ANNUITY'],x=m['OCCUPATION_TYPE'], palette='Greens_d')\n",
    "chart.set_xticklabels(chart.get_xticklabels(), rotation=45, horizontalalignment='right')\n",
    "plt.yscale('log')\n",
    "\n",
    "plt.title('Target 1')\n",
    "\n",
    "\n",
    "plt.subplot(2, 2, 2)\n",
    "\n",
    "\n",
    "\n",
    "n=applT0.groupby('OCCUPATION_TYPE').sum()['AMT_ANNUITY'].sort_values(ascending=False).reset_index()\n",
    "chart=sbn.barplot(y=n['AMT_ANNUITY'],x=n['OCCUPATION_TYPE'], palette='GnBu_d')\n",
    "chart.set_xticklabels(chart.get_xticklabels(), rotation=45, horizontalalignment='right')\n",
    "\n",
    "plt.yscale('log')\n",
    "plt.title('Target 0')"
   ]
  },
  {
   "cell_type": "code",
   "execution_count": null,
   "metadata": {},
   "outputs": [],
   "source": [
    "#bivariate analysis of INCOME and GENDER\n",
    "#categorical- continuous\n",
    "\n",
    "plt.figure(figsize=[15,15])\n",
    "sbn.set(style=\"whitegrid\", color_codes=True)\n",
    "\n",
    "plt.subplot(2, 2, 1)\n",
    "\n",
    "\n",
    "#chart= sbn.barplot(y=applT1['AMT_ANNUITY'],x=applT1['OCCUPATION_TYPE'],palette=\"Blues\", )\n",
    "#chart.set_xticklabels(chart.get_xticklabels(), rotation=45, horizontalalignment='right')\n",
    "\n",
    "m=applT1.groupby('NAME_FAMILY_STATUS').sum()['AMT_INCOME_TOTAL'].sort_values(ascending=False).reset_index()\n",
    "chart=sbn.barplot(y=m['AMT_INCOME_TOTAL'],x=m['NAME_FAMILY_STATUS'], palette='Greens_d')\n",
    "chart.set_xticklabels(chart.get_xticklabels(), rotation=45, horizontalalignment='right')\n",
    "plt.yscale('log')\n",
    "\n",
    "plt.title('Target 1')\n",
    "\n",
    "\n",
    "plt.subplot(2, 2, 2)\n",
    "\n",
    "\n",
    "\n",
    "n=applT0.groupby('NAME_FAMILY_STATUS').sum()['AMT_INCOME_TOTAL'].sort_values(ascending=False).reset_index()\n",
    "chart=sbn.barplot(y=n['AMT_INCOME_TOTAL'],x=n['NAME_FAMILY_STATUS'], palette='GnBu_d')\n",
    "chart.set_xticklabels(chart.get_xticklabels(), rotation=45, horizontalalignment='right')\n",
    "\n",
    "plt.yscale('log')\n",
    "plt.title('Target 0')"
   ]
  },
  {
   "cell_type": "code",
   "execution_count": null,
   "metadata": {},
   "outputs": [],
   "source": [
    "#Bivariate Numerical analysis\n",
    "fig = plt.figure(figsize=[15,7])\n",
    "plt.subplot(1, 2, 1)\n",
    "\n",
    "\n",
    "sbn.scatterplot(x='AMT_INCOME_TOTAL', y='AMT_ANNUITY', data=applT1, color='r')\n",
    "#print(applT1['CODE_GENDER'].value_counts(normalize=True))\n",
    "#plt.pie(applT1['CODE_GENDER'].value_counts(normalize=True) )\n",
    "plt.title('Target 1')\n",
    "\n",
    "plt.subplot(1, 2, 2)\n",
    "sbn.scatterplot(x='AMT_INCOME_TOTAL', y='AMT_ANNUITY', data=applT0, color='b')\n",
    "plt.title('Target 0')\n",
    "plt.show()\n",
    "plt.tight_layout(fig)\n",
    "\n",
    "\n"
   ]
  },
  {
   "cell_type": "code",
   "execution_count": null,
   "metadata": {},
   "outputs": [],
   "source": [
    "fig = plt.figure(figsize=[15,7])\n",
    "plt.subplot(1, 2, 1)\n",
    "\n",
    "\n",
    "sbn.scatterplot(x='AMT_INCOME_TOTAL', y='AMT_CREDIT', data=applT1, color='r')\n",
    "#print(applT1['CODE_GENDER'].value_counts(normalize=True))\n",
    "#plt.pie(applT1['CODE_GENDER'].value_counts(normalize=True) )\n",
    "plt.title('Target 1')\n",
    "\n",
    "plt.subplot(1, 2, 2)\n",
    "sbn.scatterplot(x='AMT_INCOME_TOTAL', y='AMT_CREDIT', data=applT0, color='b')\n",
    "plt.title('Target 0')\n",
    "plt.show()\n",
    "plt.tight_layout(fig)\n",
    "\n"
   ]
  },
  {
   "cell_type": "code",
   "execution_count": null,
   "metadata": {},
   "outputs": [],
   "source": [
    "\n",
    "fig = plt.figure(figsize=[15,7])\n",
    "plt.subplot(1, 2, 1)\n",
    "\n",
    "\n",
    "sbn.scatterplot(x='AMT_ANNUITY', y='AMT_CREDIT', data=applT1, color='r')\n",
    "#print(applT1['CODE_GENDER'].value_counts(normalize=True))\n",
    "#plt.pie(applT1['CODE_GENDER'].value_counts(normalize=True) )\n",
    "plt.title('Target 1')\n",
    "\n",
    "plt.subplot(1, 2, 2)\n",
    "sbn.scatterplot(x='AMT_ANNUITY', y='AMT_CREDIT', data=applT0, color='b')\n",
    "plt.title('Target 0')\n",
    "plt.show()\n",
    "plt.tight_layout(fig)\n",
    "\n"
   ]
  },
  {
   "cell_type": "code",
   "execution_count": null,
   "metadata": {},
   "outputs": [],
   "source": [
    "#correlation for continuos - continuous "
   ]
  },
  {
   "cell_type": "code",
   "execution_count": null,
   "metadata": {},
   "outputs": [],
   "source": [
    "#changing the data type of columns\n",
    "cols=['SK_ID_CURR','TARGET','FLAG_MOBIL','FLAG_PHONE','FLAG_EMAIL','AMT_REQ_CREDIT_BUREAU_HOUR', 'AMT_REQ_CREDIT_BUREAU_DAY', 'AMT_REQ_CREDIT_BUREAU_WEEK',\n",
    "      'AMT_REQ_CREDIT_BUREAU_MON', 'AMT_REQ_CREDIT_BUREAU_QRT', 'AMT_REQ_CREDIT_BUREAU_YEAR','REGION_RATING_CLIENT', 'REGION_RATING_CLIENT_W_CITY',\n",
    "      'WEEKDAY_APPR_PROCESS_START', 'HOUR_APPR_PROCESS_START','FLAG_MOBIL', 'FLAG_EMP_PHONE',\n",
    "      'FLAG_WORK_PHONE','FLAG_CONT_MOBILE','REGION_POPULATION_RELATIVE']\n",
    "\n",
    "for i in cols:\n",
    "    applT1[i]=applT1[i].astype('str')\n",
    "    applT0[i]=applT0[i].astype('str')"
   ]
  },
  {
   "cell_type": "code",
   "execution_count": null,
   "metadata": {},
   "outputs": [],
   "source": [
    "corr_matrixT1=abs(applT1.corr())\n",
    "corr_matrixT0=abs(applT0.corr())"
   ]
  },
  {
   "cell_type": "code",
   "execution_count": null,
   "metadata": {},
   "outputs": [],
   "source": [
    "plt.figure(figsize=(20,20))\n",
    "\n",
    "plt.subplot(2,1,1)\n",
    "chart= sbn.heatmap(corr_matrixT1,annot=True)\n",
    "plt.title('Target1')\n",
    "chart.set_xticklabels(chart.get_xticklabels(), rotation=45, horizontalalignment='right')\n",
    "\n",
    "plt.subplot(2,1,2)\n",
    "chart=sbn.heatmap(corr_matrixT0,annot=True)\n",
    "chart.set_xticklabels(chart.get_xticklabels(), rotation=45, horizontalalignment='right')\n",
    "plt.title ('Target0')"
   ]
  },
  {
   "cell_type": "code",
   "execution_count": null,
   "metadata": {},
   "outputs": [],
   "source": [
    "corr_matrixT1"
   ]
  },
  {
   "cell_type": "code",
   "execution_count": null,
   "metadata": {
    "scrolled": true
   },
   "outputs": [],
   "source": [
    "corrT1=corr_matrixT1.where(np.triu(np.ones(corr_matrixT1.shape),k=1).astype(bool))\n",
    "corrT1=corrT1.unstack().reset_index()\n",
    "corrT1.columns= ['VAR1','VAR2','CORRELATION']\n",
    "corrT1=corrT1.dropna(subset=['CORRELATION'])\n",
    "corrT1.sort_values('CORRELATION', ascending=False,inplace=True)\n",
    "corrT1.head(10)"
   ]
  },
  {
   "cell_type": "code",
   "execution_count": null,
   "metadata": {},
   "outputs": [],
   "source": [
    "corrT0=corr_matrixT0.where(np.triu(np.ones(corr_matrixT0.shape),k=1).astype(bool))\n",
    "corrT0=corrT0.unstack().reset_index()\n",
    "corrT0.columns= ['VAR1','VAR2','CORRELATION']\n",
    "corrT0=corrT0.dropna(subset=['CORRELATION'])\n",
    "corrT0.sort_values('CORRELATION', ascending=False,inplace=True)\n",
    "corrT0.head(10)\n"
   ]
  },
  {
   "cell_type": "markdown",
   "metadata": {},
   "source": [
    "`comments on correlation`\n",
    "\n",
    "After comparing the two data sets for Target = 1 and Target = 0, we find that the sets of correlated columns are same for both the datasets.\n",
    "AMT_GOODS_PRICE is highly correlated to AMT_CREDIT in both the datasets. Similarly CNT_FAM_MEMBERS is highly correlated to CNT_CHILDREN and so on.\n"
   ]
  },
  {
   "cell_type": "code",
   "execution_count": null,
   "metadata": {},
   "outputs": [],
   "source": [
    "# previous application\n",
    "\n",
    "previous=pd.read_csv('/Users/suraajhasija/Desktop/Python-Basics/EDA Case Study/previous_application.csv')"
   ]
  },
  {
   "cell_type": "code",
   "execution_count": null,
   "metadata": {},
   "outputs": [],
   "source": [
    "previous.head()"
   ]
  },
  {
   "cell_type": "code",
   "execution_count": null,
   "metadata": {},
   "outputs": [],
   "source": [
    "previous.shape"
   ]
  },
  {
   "cell_type": "code",
   "execution_count": null,
   "metadata": {
    "scrolled": true
   },
   "outputs": [],
   "source": [
    "previous.dtypes"
   ]
  },
  {
   "cell_type": "code",
   "execution_count": null,
   "metadata": {
    "scrolled": true
   },
   "outputs": [],
   "source": [
    "null_check=previous.isnull().sum()/len(previous.index)*100\n",
    "null_check"
   ]
  },
  {
   "cell_type": "code",
   "execution_count": null,
   "metadata": {},
   "outputs": [],
   "source": [
    "#columns to drop here\n",
    "col_to_drop=null_check[null_check >50].index"
   ]
  },
  {
   "cell_type": "code",
   "execution_count": null,
   "metadata": {},
   "outputs": [],
   "source": [
    "previous.drop(columns=col_to_drop,inplace=True)"
   ]
  },
  {
   "cell_type": "code",
   "execution_count": null,
   "metadata": {},
   "outputs": [],
   "source": [
    "#merging of current application with previous application keeping data of current applicants only \n",
    "previous['SK_ID_CURR']=previous['SK_ID_CURR'].astype('str')\n",
    "appT1previous=applT1.merge(previous,on='SK_ID_CURR', how='left' )\n",
    "appT0previous=applT0.merge(previous,on='SK_ID_CURR', how='left' )"
   ]
  },
  {
   "cell_type": "code",
   "execution_count": null,
   "metadata": {},
   "outputs": [],
   "source": [
    "appT1previous.head()"
   ]
  },
  {
   "cell_type": "code",
   "execution_count": null,
   "metadata": {},
   "outputs": [],
   "source": [
    "#since no null in previous application NAME_CONTRACT_STATUS. We can assume that where ever we have na,\n",
    "#means no previous record found\n",
    "appT1previous.NAME_CONTRACT_STATUS=appT1previous.NAME_CONTRACT_STATUS.fillna('No History')\n",
    "appT0previous.NAME_CONTRACT_STATUS=appT0previous.NAME_CONTRACT_STATUS.fillna('No History')"
   ]
  },
  {
   "cell_type": "code",
   "execution_count": null,
   "metadata": {},
   "outputs": [],
   "source": [
    "#Customers in current application with previous application contract/loan status \n",
    "fig=plt.figure(figsize=(12,12))\n",
    "\n",
    "plt.subplot(1,2,1)\n",
    "bbc=sbn.countplot(x='NAME_CONTRACT_STATUS', data=appT1previous)\n",
    "bbc.set_xticklabels(bbc.get_xticklabels(), rotation=45, horizontalalignment='right')\n",
    "plt.title('Target 1')\n",
    "\n",
    "plt.subplot(1,2,2)\n",
    "ddc=sbn.countplot(x='NAME_CONTRACT_STATUS', data=appT0previous)\n",
    "ddc.set_xticklabels(ddc.get_xticklabels(), rotation=45, horizontalalignment='right')\n",
    "\n",
    "plt.title('Target 0')\n",
    "plt.show()\n",
    "\n"
   ]
  },
  {
   "cell_type": "code",
   "execution_count": null,
   "metadata": {},
   "outputs": [],
   "source": [
    "#previous application contract status and median credit amount by gender\n",
    "\n",
    "fig=plt.figure(figsize=(13,13))\n",
    "\n",
    "plt.subplot(1,2,1)\n",
    "bbc=sbn.barplot(x='NAME_CONTRACT_STATUS',y='AMT_CREDIT_y', estimator=np.median,hue='CODE_GENDER', data=appT1previous)\n",
    "bbc.set_xticklabels(bbc.get_xticklabels(), rotation=45, horizontalalignment='right')\n",
    "plt.title('Target 1')\n",
    "\n",
    "plt.subplot(1,2,2)\n",
    "ddc=sbn.barplot(x='NAME_CONTRACT_STATUS',y='AMT_CREDIT_y', estimator=np.median, hue='CODE_GENDER', data=appT0previous)\n",
    "ddc.set_xticklabels(ddc.get_xticklabels(), rotation=45, horizontalalignment='right')\n",
    "\n",
    "plt.title('Target 0')\n",
    "plt.show()\n"
   ]
  },
  {
   "cell_type": "code",
   "execution_count": null,
   "metadata": {},
   "outputs": [],
   "source": [
    "#validating the chart data\n",
    "appT1previous.groupby('NAME_CONTRACT_STATUS').aggregate(np.median)['AMT_CREDIT_y']"
   ]
  },
  {
   "cell_type": "code",
   "execution_count": null,
   "metadata": {},
   "outputs": [],
   "source": [
    "#checking the cause of rejection in previous applications\n",
    "fig=plt.figure(figsize=(6,5))\n",
    "\n",
    "plt.subplot(1,2,1)\n",
    "subset=appT1previous[appT1previous['NAME_CONTRACT_STATUS']=='Refused']\n",
    "appT1previous.CODE_REJECT_REASON.value_counts(normalize=True).plot.bar(color='blue')\n",
    "plt.title('Target 1')\n",
    "\n",
    "plt.subplot(1,2,2)\n",
    "subset=appT0previous[appT0previous['NAME_CONTRACT_STATUS']=='Refused']\n",
    "\n",
    "appT0previous.CODE_REJECT_REASON.value_counts(normalize=True).plot.bar(color='red')\n",
    "plt.title('Target 0')\n"
   ]
  },
  {
   "cell_type": "code",
   "execution_count": null,
   "metadata": {},
   "outputs": [],
   "source": [
    "#bivariate analysis - checking the variation between credit amount and the amount for which the client initially applied in the previous application\n",
    "\n",
    "plt.figure(figsize=(12,10))\n",
    "plt.subplot(1,2,1)\n",
    "bbc=sbn.scatterplot(x='AMT_APPLICATION',y='AMT_CREDIT_y', data=appT1previous)\n",
    "bbc.set_xticklabels(bbc.get_xticklabels(), rotation=45, horizontalalignment='right')\n",
    "plt.title('Target 1')\n",
    "\n",
    "plt.subplot(1,2,2)\n",
    "ddc=sbn.scatterplot(x='AMT_APPLICATION',y='AMT_CREDIT_y', data=appT0previous)\n",
    "ddc.set_xticklabels(ddc.get_xticklabels(), rotation=45, horizontalalignment='right')\n",
    "plt.title('Target 0')\n",
    "plt.show()"
   ]
  },
  {
   "cell_type": "code",
   "execution_count": null,
   "metadata": {},
   "outputs": [],
   "source": [
    "#Shift in contract type (from previous application to current)\n",
    "#categorical-categorical bivariate analysis\n",
    "\n",
    "\n",
    "fig=plt.figure(figsize=(12,12))\n",
    "\n",
    "plt.subplot(1,2,1)\n",
    "bbc=sbn.countplot(x='NAME_CONTRACT_TYPE_x',hue='NAME_CONTRACT_TYPE_y', data=appT1previous)\n",
    "bbc.set_xticklabels(bbc.get_xticklabels(), rotation=45, horizontalalignment='right')\n",
    "plt.title('Target 1')\n",
    "\n",
    "plt.subplot(1,2,2)\n",
    "ddc=sbn.countplot(x='NAME_CONTRACT_TYPE_x',hue='NAME_CONTRACT_TYPE_y', data=appT0previous)\n",
    "ddc.set_xticklabels(ddc.get_xticklabels(), rotation=45, horizontalalignment='right')\n",
    "\n",
    "plt.title('Target 0')\n",
    "plt.show()"
   ]
  },
  {
   "cell_type": "markdown",
   "metadata": {},
   "source": [
    "Remarks and Explanations in PPT attached with this notebook"
   ]
  },
  {
   "cell_type": "markdown",
   "metadata": {},
   "source": [
    "### Author: `Suraaj Hasija`\n",
    "### Please share your feedback on: `mailbox.suraaj@gmail.com `"
   ]
  },
  {
   "cell_type": "code",
   "execution_count": null,
   "metadata": {},
   "outputs": [],
   "source": []
  }
 ],
 "metadata": {
  "kernelspec": {
   "display_name": "Python 3",
   "language": "python",
   "name": "python3"
  },
  "language_info": {
   "codemirror_mode": {
    "name": "ipython",
    "version": 3
   },
   "file_extension": ".py",
   "mimetype": "text/x-python",
   "name": "python",
   "nbconvert_exporter": "python",
   "pygments_lexer": "ipython3",
   "version": "3.7.3"
  }
 },
 "nbformat": 4,
 "nbformat_minor": 4
}
