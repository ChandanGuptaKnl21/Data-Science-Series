{
 "cells": [
  {
   "cell_type": "code",
   "execution_count": 1,
   "metadata": {
    "_cell_guid": "b1076dfc-b9ad-4769-8c92-a6c4dae69d19",
    "_uuid": "8f2839f25d086af736a60e9eeb907d3b93b6e0e5",
    "execution": {
     "iopub.execute_input": "2022-10-05T21:58:36.971998Z",
     "iopub.status.busy": "2022-10-05T21:58:36.971482Z",
     "iopub.status.idle": "2022-10-05T21:58:37.060832Z",
     "shell.execute_reply": "2022-10-05T21:58:37.058647Z",
     "shell.execute_reply.started": "2022-10-05T21:58:36.971895Z"
    }
   },
   "outputs": [],
   "source": [
    "# Reading and fixiung data\n",
    "import pandas as pd\n",
    "import numpy as np\n",
    "\n",
    "messages=pd.read_csv('../input/spamcsv/spam.csv',encoding='latin1' )\n",
    "messages=messages[['v1','v2']]\n",
    "messages.columns=['label', 'text']\n",
    "#target variable encoding\n",
    "labels=np.where(messages['label']=='spam',1,0)"
   ]
  },
  {
   "cell_type": "code",
   "execution_count": 2,
   "metadata": {
    "execution": {
     "iopub.execute_input": "2022-10-05T21:58:37.064673Z",
     "iopub.status.busy": "2022-10-05T21:58:37.063310Z",
     "iopub.status.idle": "2022-10-05T21:58:37.094302Z",
     "shell.execute_reply": "2022-10-05T21:58:37.092951Z",
     "shell.execute_reply.started": "2022-10-05T21:58:37.064618Z"
    }
   },
   "outputs": [
    {
     "data": {
      "text/html": [
       "<div>\n",
       "<style scoped>\n",
       "    .dataframe tbody tr th:only-of-type {\n",
       "        vertical-align: middle;\n",
       "    }\n",
       "\n",
       "    .dataframe tbody tr th {\n",
       "        vertical-align: top;\n",
       "    }\n",
       "\n",
       "    .dataframe thead th {\n",
       "        text-align: right;\n",
       "    }\n",
       "</style>\n",
       "<table border=\"1\" class=\"dataframe\">\n",
       "  <thead>\n",
       "    <tr style=\"text-align: right;\">\n",
       "      <th></th>\n",
       "      <th>label</th>\n",
       "      <th>text</th>\n",
       "    </tr>\n",
       "  </thead>\n",
       "  <tbody>\n",
       "    <tr>\n",
       "      <th>0</th>\n",
       "      <td>ham</td>\n",
       "      <td>Go until jurong point, crazy.. Available only ...</td>\n",
       "    </tr>\n",
       "    <tr>\n",
       "      <th>1</th>\n",
       "      <td>ham</td>\n",
       "      <td>Ok lar... Joking wif u oni...</td>\n",
       "    </tr>\n",
       "    <tr>\n",
       "      <th>2</th>\n",
       "      <td>spam</td>\n",
       "      <td>Free entry in 2 a wkly comp to win FA Cup fina...</td>\n",
       "    </tr>\n",
       "    <tr>\n",
       "      <th>3</th>\n",
       "      <td>ham</td>\n",
       "      <td>U dun say so early hor... U c already then say...</td>\n",
       "    </tr>\n",
       "    <tr>\n",
       "      <th>4</th>\n",
       "      <td>ham</td>\n",
       "      <td>Nah I don't think he goes to usf, he lives aro...</td>\n",
       "    </tr>\n",
       "    <tr>\n",
       "      <th>...</th>\n",
       "      <td>...</td>\n",
       "      <td>...</td>\n",
       "    </tr>\n",
       "    <tr>\n",
       "      <th>5567</th>\n",
       "      <td>spam</td>\n",
       "      <td>This is the 2nd time we have tried 2 contact u...</td>\n",
       "    </tr>\n",
       "    <tr>\n",
       "      <th>5568</th>\n",
       "      <td>ham</td>\n",
       "      <td>Will Ì_ b going to esplanade fr home?</td>\n",
       "    </tr>\n",
       "    <tr>\n",
       "      <th>5569</th>\n",
       "      <td>ham</td>\n",
       "      <td>Pity, * was in mood for that. So...any other s...</td>\n",
       "    </tr>\n",
       "    <tr>\n",
       "      <th>5570</th>\n",
       "      <td>ham</td>\n",
       "      <td>The guy did some bitching but I acted like i'd...</td>\n",
       "    </tr>\n",
       "    <tr>\n",
       "      <th>5571</th>\n",
       "      <td>ham</td>\n",
       "      <td>Rofl. Its true to its name</td>\n",
       "    </tr>\n",
       "  </tbody>\n",
       "</table>\n",
       "<p>5572 rows × 2 columns</p>\n",
       "</div>"
      ],
      "text/plain": [
       "     label                                               text\n",
       "0      ham  Go until jurong point, crazy.. Available only ...\n",
       "1      ham                      Ok lar... Joking wif u oni...\n",
       "2     spam  Free entry in 2 a wkly comp to win FA Cup fina...\n",
       "3      ham  U dun say so early hor... U c already then say...\n",
       "4      ham  Nah I don't think he goes to usf, he lives aro...\n",
       "...    ...                                                ...\n",
       "5567  spam  This is the 2nd time we have tried 2 contact u...\n",
       "5568   ham              Will Ì_ b going to esplanade fr home?\n",
       "5569   ham  Pity, * was in mood for that. So...any other s...\n",
       "5570   ham  The guy did some bitching but I acted like i'd...\n",
       "5571   ham                         Rofl. Its true to its name\n",
       "\n",
       "[5572 rows x 2 columns]"
      ]
     },
     "execution_count": 2,
     "metadata": {},
     "output_type": "execute_result"
    }
   ],
   "source": [
    "messages"
   ]
  },
  {
   "cell_type": "code",
   "execution_count": 3,
   "metadata": {
    "execution": {
     "iopub.execute_input": "2022-10-05T21:58:37.097148Z",
     "iopub.status.busy": "2022-10-05T21:58:37.095942Z",
     "iopub.status.idle": "2022-10-05T21:58:39.176736Z",
     "shell.execute_reply": "2022-10-05T21:58:39.175255Z",
     "shell.execute_reply.started": "2022-10-05T21:58:37.097092Z"
    }
   },
   "outputs": [],
   "source": [
    "# Cleaning the data\n",
    "import re\n",
    "import nltk\n",
    "stopwords=nltk.corpus.stopwords.words('english')"
   ]
  },
  {
   "cell_type": "code",
   "execution_count": 4,
   "metadata": {
    "execution": {
     "iopub.execute_input": "2022-10-05T21:58:39.181172Z",
     "iopub.status.busy": "2022-10-05T21:58:39.180217Z",
     "iopub.status.idle": "2022-10-05T21:58:39.259305Z",
     "shell.execute_reply": "2022-10-05T21:58:39.256811Z",
     "shell.execute_reply.started": "2022-10-05T21:58:39.181116Z"
    }
   },
   "outputs": [],
   "source": [
    "messages['clean_text']=messages['text'].apply(lambda x: re.findall('\\w+',x.lower()) )\n"
   ]
  },
  {
   "cell_type": "code",
   "execution_count": 5,
   "metadata": {
    "execution": {
     "iopub.execute_input": "2022-10-05T21:58:39.262113Z",
     "iopub.status.busy": "2022-10-05T21:58:39.261634Z",
     "iopub.status.idle": "2022-10-05T21:58:39.299190Z",
     "shell.execute_reply": "2022-10-05T21:58:39.297598Z",
     "shell.execute_reply.started": "2022-10-05T21:58:39.262061Z"
    }
   },
   "outputs": [
    {
     "data": {
      "text/html": [
       "<div>\n",
       "<style scoped>\n",
       "    .dataframe tbody tr th:only-of-type {\n",
       "        vertical-align: middle;\n",
       "    }\n",
       "\n",
       "    .dataframe tbody tr th {\n",
       "        vertical-align: top;\n",
       "    }\n",
       "\n",
       "    .dataframe thead th {\n",
       "        text-align: right;\n",
       "    }\n",
       "</style>\n",
       "<table border=\"1\" class=\"dataframe\">\n",
       "  <thead>\n",
       "    <tr style=\"text-align: right;\">\n",
       "      <th></th>\n",
       "      <th>label</th>\n",
       "      <th>text</th>\n",
       "      <th>clean_text</th>\n",
       "    </tr>\n",
       "  </thead>\n",
       "  <tbody>\n",
       "    <tr>\n",
       "      <th>0</th>\n",
       "      <td>ham</td>\n",
       "      <td>Go until jurong point, crazy.. Available only ...</td>\n",
       "      <td>[go, until, jurong, point, crazy, available, o...</td>\n",
       "    </tr>\n",
       "    <tr>\n",
       "      <th>1</th>\n",
       "      <td>ham</td>\n",
       "      <td>Ok lar... Joking wif u oni...</td>\n",
       "      <td>[ok, lar, joking, wif, u, oni]</td>\n",
       "    </tr>\n",
       "    <tr>\n",
       "      <th>2</th>\n",
       "      <td>spam</td>\n",
       "      <td>Free entry in 2 a wkly comp to win FA Cup fina...</td>\n",
       "      <td>[free, entry, in, 2, a, wkly, comp, to, win, f...</td>\n",
       "    </tr>\n",
       "    <tr>\n",
       "      <th>3</th>\n",
       "      <td>ham</td>\n",
       "      <td>U dun say so early hor... U c already then say...</td>\n",
       "      <td>[u, dun, say, so, early, hor, u, c, already, t...</td>\n",
       "    </tr>\n",
       "    <tr>\n",
       "      <th>4</th>\n",
       "      <td>ham</td>\n",
       "      <td>Nah I don't think he goes to usf, he lives aro...</td>\n",
       "      <td>[nah, i, don, t, think, he, goes, to, usf, he,...</td>\n",
       "    </tr>\n",
       "    <tr>\n",
       "      <th>...</th>\n",
       "      <td>...</td>\n",
       "      <td>...</td>\n",
       "      <td>...</td>\n",
       "    </tr>\n",
       "    <tr>\n",
       "      <th>5567</th>\n",
       "      <td>spam</td>\n",
       "      <td>This is the 2nd time we have tried 2 contact u...</td>\n",
       "      <td>[this, is, the, 2nd, time, we, have, tried, 2,...</td>\n",
       "    </tr>\n",
       "    <tr>\n",
       "      <th>5568</th>\n",
       "      <td>ham</td>\n",
       "      <td>Will Ì_ b going to esplanade fr home?</td>\n",
       "      <td>[will, ì_, b, going, to, esplanade, fr, home]</td>\n",
       "    </tr>\n",
       "    <tr>\n",
       "      <th>5569</th>\n",
       "      <td>ham</td>\n",
       "      <td>Pity, * was in mood for that. So...any other s...</td>\n",
       "      <td>[pity, was, in, mood, for, that, so, any, othe...</td>\n",
       "    </tr>\n",
       "    <tr>\n",
       "      <th>5570</th>\n",
       "      <td>ham</td>\n",
       "      <td>The guy did some bitching but I acted like i'd...</td>\n",
       "      <td>[the, guy, did, some, bitching, but, i, acted,...</td>\n",
       "    </tr>\n",
       "    <tr>\n",
       "      <th>5571</th>\n",
       "      <td>ham</td>\n",
       "      <td>Rofl. Its true to its name</td>\n",
       "      <td>[rofl, its, true, to, its, name]</td>\n",
       "    </tr>\n",
       "  </tbody>\n",
       "</table>\n",
       "<p>5572 rows × 3 columns</p>\n",
       "</div>"
      ],
      "text/plain": [
       "     label                                               text  \\\n",
       "0      ham  Go until jurong point, crazy.. Available only ...   \n",
       "1      ham                      Ok lar... Joking wif u oni...   \n",
       "2     spam  Free entry in 2 a wkly comp to win FA Cup fina...   \n",
       "3      ham  U dun say so early hor... U c already then say...   \n",
       "4      ham  Nah I don't think he goes to usf, he lives aro...   \n",
       "...    ...                                                ...   \n",
       "5567  spam  This is the 2nd time we have tried 2 contact u...   \n",
       "5568   ham              Will Ì_ b going to esplanade fr home?   \n",
       "5569   ham  Pity, * was in mood for that. So...any other s...   \n",
       "5570   ham  The guy did some bitching but I acted like i'd...   \n",
       "5571   ham                         Rofl. Its true to its name   \n",
       "\n",
       "                                             clean_text  \n",
       "0     [go, until, jurong, point, crazy, available, o...  \n",
       "1                        [ok, lar, joking, wif, u, oni]  \n",
       "2     [free, entry, in, 2, a, wkly, comp, to, win, f...  \n",
       "3     [u, dun, say, so, early, hor, u, c, already, t...  \n",
       "4     [nah, i, don, t, think, he, goes, to, usf, he,...  \n",
       "...                                                 ...  \n",
       "5567  [this, is, the, 2nd, time, we, have, tried, 2,...  \n",
       "5568      [will, ì_, b, going, to, esplanade, fr, home]  \n",
       "5569  [pity, was, in, mood, for, that, so, any, othe...  \n",
       "5570  [the, guy, did, some, bitching, but, i, acted,...  \n",
       "5571                   [rofl, its, true, to, its, name]  \n",
       "\n",
       "[5572 rows x 3 columns]"
      ]
     },
     "execution_count": 5,
     "metadata": {},
     "output_type": "execute_result"
    }
   ],
   "source": [
    "messages"
   ]
  },
  {
   "cell_type": "code",
   "execution_count": 6,
   "metadata": {
    "execution": {
     "iopub.execute_input": "2022-10-05T21:58:39.307369Z",
     "iopub.status.busy": "2022-10-05T21:58:39.306831Z",
     "iopub.status.idle": "2022-10-05T21:58:39.601758Z",
     "shell.execute_reply": "2022-10-05T21:58:39.600668Z",
     "shell.execute_reply.started": "2022-10-05T21:58:39.307327Z"
    }
   },
   "outputs": [],
   "source": [
    "messages['cleaner_text']=messages['clean_text'].apply(lambda x: [i for i in x if i not in stopwords])\n",
    "\n"
   ]
  },
  {
   "cell_type": "code",
   "execution_count": 7,
   "metadata": {
    "execution": {
     "iopub.execute_input": "2022-10-05T21:58:39.604344Z",
     "iopub.status.busy": "2022-10-05T21:58:39.603133Z",
     "iopub.status.idle": "2022-10-05T21:58:39.619208Z",
     "shell.execute_reply": "2022-10-05T21:58:39.617722Z",
     "shell.execute_reply.started": "2022-10-05T21:58:39.604305Z"
    }
   },
   "outputs": [],
   "source": [
    "from sklearn.model_selection import train_test_split\n",
    "X_train, X_test, y_train, y_test= train_test_split(messages['cleaner_text'].apply(lambda x: ' '.join(x)), labels, test_size=0.2)"
   ]
  },
  {
   "cell_type": "code",
   "execution_count": 8,
   "metadata": {
    "execution": {
     "iopub.execute_input": "2022-10-05T21:58:39.622169Z",
     "iopub.status.busy": "2022-10-05T21:58:39.621089Z",
     "iopub.status.idle": "2022-10-05T21:58:39.638177Z",
     "shell.execute_reply": "2022-10-05T21:58:39.635965Z",
     "shell.execute_reply.started": "2022-10-05T21:58:39.621917Z"
    }
   },
   "outputs": [
    {
     "data": {
      "text/plain": [
       "3983    hey missed tm last night phone charge smiles m...\n",
       "2625    free ring tone text polys 87131 every week get...\n",
       "2523                                     sorry call later\n",
       "1393                                                oh ok\n",
       "2315                               significant dont worry\n",
       "                              ...                        \n",
       "1146                                            babe lost\n",
       "3974    u think girl propose u today seing ur bloody f...\n",
       "2029                               thanx birthday already\n",
       "4800    guy car shop flirting got phone number paperwo...\n",
       "4118    hiya u like hlday pics looked horrible took mo...\n",
       "Name: cleaner_text, Length: 4457, dtype: object"
      ]
     },
     "execution_count": 8,
     "metadata": {},
     "output_type": "execute_result"
    }
   ],
   "source": [
    "X_train"
   ]
  },
  {
   "cell_type": "markdown",
   "metadata": {},
   "source": [
    "# Compare NLP Models "
   ]
  },
  {
   "cell_type": "markdown",
   "metadata": {
    "execution": {
     "iopub.execute_input": "2022-10-05T19:35:55.946142Z",
     "iopub.status.busy": "2022-10-05T19:35:55.944785Z",
     "iopub.status.idle": "2022-10-05T19:35:55.951829Z",
     "shell.execute_reply": "2022-10-05T19:35:55.950601Z",
     "shell.execute_reply.started": "2022-10-05T19:35:55.946094Z"
    }
   },
   "source": [
    "## 1. Build model on TF-IDF Vectors"
   ]
  },
  {
   "cell_type": "code",
   "execution_count": 9,
   "metadata": {
    "execution": {
     "iopub.execute_input": "2022-10-05T21:58:39.640802Z",
     "iopub.status.busy": "2022-10-05T21:58:39.639982Z",
     "iopub.status.idle": "2022-10-05T21:58:39.646678Z",
     "shell.execute_reply": "2022-10-05T21:58:39.644950Z",
     "shell.execute_reply.started": "2022-10-05T21:58:39.640738Z"
    }
   },
   "outputs": [],
   "source": [
    "from sklearn.feature_extraction.text import TfidfVectorizer"
   ]
  },
  {
   "cell_type": "code",
   "execution_count": 10,
   "metadata": {
    "execution": {
     "iopub.execute_input": "2022-10-05T21:58:39.652724Z",
     "iopub.status.busy": "2022-10-05T21:58:39.652132Z",
     "iopub.status.idle": "2022-10-05T21:58:39.774702Z",
     "shell.execute_reply": "2022-10-05T21:58:39.773368Z",
     "shell.execute_reply.started": "2022-10-05T21:58:39.652679Z"
    }
   },
   "outputs": [],
   "source": [
    "vectorizer = TfidfVectorizer()\n",
    "X_train_tfidf = vectorizer.fit_transform(X_train)"
   ]
  },
  {
   "cell_type": "code",
   "execution_count": 11,
   "metadata": {
    "execution": {
     "iopub.execute_input": "2022-10-05T21:58:39.777554Z",
     "iopub.status.busy": "2022-10-05T21:58:39.776710Z",
     "iopub.status.idle": "2022-10-05T21:58:39.808650Z",
     "shell.execute_reply": "2022-10-05T21:58:39.807470Z",
     "shell.execute_reply.started": "2022-10-05T21:58:39.777495Z"
    }
   },
   "outputs": [],
   "source": [
    "X_test_tfidf = vectorizer.transform(X_test)"
   ]
  },
  {
   "cell_type": "code",
   "execution_count": null,
   "metadata": {},
   "outputs": [],
   "source": [
    "vectorizer.vocabulary_"
   ]
  },
  {
   "cell_type": "code",
   "execution_count": 13,
   "metadata": {
    "execution": {
     "iopub.execute_input": "2022-10-05T21:58:39.871095Z",
     "iopub.status.busy": "2022-10-05T21:58:39.870339Z",
     "iopub.status.idle": "2022-10-05T21:58:39.879815Z",
     "shell.execute_reply": "2022-10-05T21:58:39.878456Z",
     "shell.execute_reply.started": "2022-10-05T21:58:39.871045Z"
    }
   },
   "outputs": [
    {
     "data": {
      "text/plain": [
       "<1x7571 sparse matrix of type '<class 'numpy.float64'>'\n",
       "\twith 6 stored elements in Compressed Sparse Row format>"
      ]
     },
     "execution_count": 13,
     "metadata": {},
     "output_type": "execute_result"
    }
   ],
   "source": [
    "#storage as a sparse matrix. here the size is 7502 but only 1 element stored for 1st row in test set. that means all others are 0\n",
    "X_test_tfidf[0]"
   ]
  },
  {
   "cell_type": "code",
   "execution_count": 14,
   "metadata": {
    "execution": {
     "iopub.execute_input": "2022-10-05T21:58:39.883217Z",
     "iopub.status.busy": "2022-10-05T21:58:39.882294Z",
     "iopub.status.idle": "2022-10-05T21:58:39.893366Z",
     "shell.execute_reply": "2022-10-05T21:58:39.892008Z",
     "shell.execute_reply.started": "2022-10-05T21:58:39.883160Z"
    }
   },
   "outputs": [
    {
     "data": {
      "text/plain": [
       "array([[0., 0., 0., ..., 0., 0., 0.]])"
      ]
     },
     "execution_count": 14,
     "metadata": {},
     "output_type": "execute_result"
    }
   ],
   "source": [
    "X_test_tfidf[0].toarray() #mostly zeroes. this is less efficient method of storing"
   ]
  },
  {
   "cell_type": "markdown",
   "metadata": {},
   "source": [
    "### Fit Random Forest on top of these vectors"
   ]
  },
  {
   "cell_type": "code",
   "execution_count": 15,
   "metadata": {
    "execution": {
     "iopub.execute_input": "2022-10-05T21:58:39.896666Z",
     "iopub.status.busy": "2022-10-05T21:58:39.895581Z",
     "iopub.status.idle": "2022-10-05T21:58:41.288711Z",
     "shell.execute_reply": "2022-10-05T21:58:41.287226Z",
     "shell.execute_reply.started": "2022-10-05T21:58:39.896614Z"
    }
   },
   "outputs": [],
   "source": [
    "from sklearn.ensemble import RandomForestClassifier\n",
    "\n",
    "rf=RandomForestClassifier()\n",
    "rf_tfidf=rf.fit(X_train_tfidf, y_train)\n"
   ]
  },
  {
   "cell_type": "code",
   "execution_count": 16,
   "metadata": {
    "execution": {
     "iopub.execute_input": "2022-10-05T21:58:41.291211Z",
     "iopub.status.busy": "2022-10-05T21:58:41.290587Z",
     "iopub.status.idle": "2022-10-05T21:58:41.377599Z",
     "shell.execute_reply": "2022-10-05T21:58:41.376182Z",
     "shell.execute_reply.started": "2022-10-05T21:58:41.291155Z"
    }
   },
   "outputs": [
    {
     "name": "stdout",
     "output_type": "stream",
     "text": [
      "              precision    recall  f1-score   support\n",
      "\n",
      "           0       0.98      1.00      0.99       968\n",
      "           1       0.99      0.84      0.91       147\n",
      "\n",
      "    accuracy                           0.98      1115\n",
      "   macro avg       0.98      0.92      0.95      1115\n",
      "weighted avg       0.98      0.98      0.98      1115\n",
      "\n"
     ]
    }
   ],
   "source": [
    "from sklearn.metrics import classification_report\n",
    "print(classification_report(y_test, rf_tfidf.predict(X_test_tfidf)))"
   ]
  },
  {
   "cell_type": "markdown",
   "metadata": {
    "execution": {
     "iopub.execute_input": "2022-10-05T21:40:08.317966Z",
     "iopub.status.busy": "2022-10-05T21:40:08.317462Z",
     "iopub.status.idle": "2022-10-05T21:40:08.323650Z",
     "shell.execute_reply": "2022-10-05T21:40:08.322188Z",
     "shell.execute_reply.started": "2022-10-05T21:40:08.317931Z"
    }
   },
   "source": [
    "## 2. Build model on Word2Vec model"
   ]
  },
  {
   "cell_type": "code",
   "execution_count": 24,
   "metadata": {
    "execution": {
     "iopub.execute_input": "2022-10-05T22:00:44.343093Z",
     "iopub.status.busy": "2022-10-05T22:00:44.341710Z",
     "iopub.status.idle": "2022-10-05T22:00:44.675723Z",
     "shell.execute_reply": "2022-10-05T22:00:44.674549Z",
     "shell.execute_reply.started": "2022-10-05T22:00:44.343035Z"
    }
   },
   "outputs": [],
   "source": [
    "from sklearn.model_selection import train_test_split\n",
    "X_train, X_test, y_train, y_test= train_test_split(messages['cleaner_text'], labels, test_size=0.2)\n",
    "\n",
    "from gensim.models import Word2Vec\n",
    "w2v = Word2Vec(sentences=X_train, vector_size=100, window=5)\n"
   ]
  },
  {
   "cell_type": "code",
   "execution_count": 25,
   "metadata": {
    "execution": {
     "iopub.execute_input": "2022-10-05T22:00:45.993407Z",
     "iopub.status.busy": "2022-10-05T22:00:45.992123Z",
     "iopub.status.idle": "2022-10-05T22:00:46.004657Z",
     "shell.execute_reply": "2022-10-05T22:00:46.003627Z",
     "shell.execute_reply.started": "2022-10-05T22:00:45.993352Z"
    }
   },
   "outputs": [
    {
     "data": {
      "text/plain": [
       "185     [hello, handsome, finding, job, lazy, working,...\n",
       "2696    [nope, going, home, go, pump, petrol, lor, lik...\n",
       "1780    [big, brother, alert, computer, selected, u, 1...\n",
       "2072                                   [wondarfull, song]\n",
       "678                                  [cause, freaky, lol]\n",
       "                              ...                        \n",
       "5280                  [vikky, come, around, lt, time, gt]\n",
       "4363                                           [remember]\n",
       "2709                              [sorry, de, went, shop]\n",
       "3449                    [ya, telling, abt, tht, incident]\n",
       "5203                              [fine, absolutly, fine]\n",
       "Name: cleaner_text, Length: 4457, dtype: object"
      ]
     },
     "execution_count": 25,
     "metadata": {},
     "output_type": "execute_result"
    }
   ],
   "source": [
    "X_train"
   ]
  },
  {
   "cell_type": "code",
   "execution_count": 26,
   "metadata": {
    "execution": {
     "iopub.execute_input": "2022-10-05T22:00:48.799338Z",
     "iopub.status.busy": "2022-10-05T22:00:48.797967Z",
     "iopub.status.idle": "2022-10-05T22:00:48.807321Z",
     "shell.execute_reply": "2022-10-05T22:00:48.805946Z",
     "shell.execute_reply.started": "2022-10-05T22:00:48.799284Z"
    }
   },
   "outputs": [
    {
     "data": {
      "text/plain": [
       "4457"
      ]
     },
     "execution_count": 26,
     "metadata": {},
     "output_type": "execute_result"
    }
   ],
   "source": [
    "w2v.corpus_count"
   ]
  },
  {
   "cell_type": "code",
   "execution_count": 28,
   "metadata": {
    "execution": {
     "iopub.execute_input": "2022-10-05T22:01:11.255958Z",
     "iopub.status.busy": "2022-10-05T22:01:11.255499Z",
     "iopub.status.idle": "2022-10-05T22:01:11.262608Z",
     "shell.execute_reply": "2022-10-05T22:01:11.261206Z",
     "shell.execute_reply.started": "2022-10-05T22:01:11.255921Z"
    }
   },
   "outputs": [],
   "source": [
    "words=set(w2v.wv.index_to_key)"
   ]
  },
  {
   "cell_type": "code",
   "execution_count": 35,
   "metadata": {
    "execution": {
     "iopub.execute_input": "2022-10-05T22:13:33.406745Z",
     "iopub.status.busy": "2022-10-05T22:13:33.406306Z",
     "iopub.status.idle": "2022-10-05T22:13:33.538081Z",
     "shell.execute_reply": "2022-10-05T22:13:33.536930Z",
     "shell.execute_reply.started": "2022-10-05T22:13:33.406710Z"
    }
   },
   "outputs": [],
   "source": [
    "#Replace words with their respective word vector in the sentence\n",
    "X_train_w2v=[]\n",
    "for i in X_train:\n",
    "    mid=[]\n",
    "    for j in i:\n",
    "        if j in words:\n",
    "            mid.append(np.array(w2v.wv[j]))\n",
    "    X_train_w2v.append(np.array(mid))"
   ]
  },
  {
   "cell_type": "code",
   "execution_count": 38,
   "metadata": {
    "execution": {
     "iopub.execute_input": "2022-10-05T22:15:04.572673Z",
     "iopub.status.busy": "2022-10-05T22:15:04.571916Z",
     "iopub.status.idle": "2022-10-05T22:15:04.612612Z",
     "shell.execute_reply": "2022-10-05T22:15:04.611391Z",
     "shell.execute_reply.started": "2022-10-05T22:15:04.572631Z"
    }
   },
   "outputs": [],
   "source": [
    "#Replace words with their respective word vector in the sentence\n",
    "X_test_w2v=[]\n",
    "for i in X_test:\n",
    "    mid=[]\n",
    "    for j in i:\n",
    "        if j in words:\n",
    "            mid.append(np.array(w2v.wv[j]))\n",
    "    X_test_w2v.append(np.array(mid))"
   ]
  },
  {
   "cell_type": "code",
   "execution_count": null,
   "metadata": {},
   "outputs": [],
   "source": [
    "#len of sentence in test set are not matching with their count of words \n",
    "#for which word vectors were created (as there were conditions like min_count while creating it)\n",
    "# we are gonna fix this if we want to use it in a ML model\n",
    "for i, j in enumerate(X_test_w2v):\n",
    "    print(len(X_test.iloc[i]),len(j) )\n",
    "    "
   ]
  },
  {
   "cell_type": "code",
   "execution_count": 41,
   "metadata": {
    "execution": {
     "iopub.execute_input": "2022-10-05T22:16:51.130769Z",
     "iopub.status.busy": "2022-10-05T22:16:51.130332Z",
     "iopub.status.idle": "2022-10-05T22:16:51.151670Z",
     "shell.execute_reply": "2022-10-05T22:16:51.150401Z",
     "shell.execute_reply.started": "2022-10-05T22:16:51.130732Z"
    }
   },
   "outputs": [],
   "source": [
    "#to fix the above issue, we can take the average of word vectors for the words contained in the sentence and\n",
    "#then we'll be left with just one word vector representing a sentence\n",
    "X_test_w2v_avg=[]  #sentence vector\n",
    "\n",
    "for i in X_test_w2v:\n",
    "    if (len(i)!=0):\n",
    "        X_test_w2v_avg.append(i.mean(axis=0))\n",
    "    else:\n",
    "        X_test_w2v_avg.append(np.zeros(100))\n",
    "    "
   ]
  },
  {
   "cell_type": "code",
   "execution_count": 42,
   "metadata": {
    "execution": {
     "iopub.execute_input": "2022-10-05T22:16:52.945046Z",
     "iopub.status.busy": "2022-10-05T22:16:52.944624Z",
     "iopub.status.idle": "2022-10-05T22:16:53.008392Z",
     "shell.execute_reply": "2022-10-05T22:16:53.007362Z",
     "shell.execute_reply.started": "2022-10-05T22:16:52.945011Z"
    }
   },
   "outputs": [],
   "source": [
    "X_train_w2v_avg=[]  #sentence vector\n",
    "\n",
    "for i in X_train_w2v:\n",
    "    if (len(i)!=0):\n",
    "        X_train_w2v_avg.append(i.mean(axis=0))\n",
    "    else:\n",
    "        X_train_w2v_avg.append(np.zeros(100))\n",
    "    "
   ]
  },
  {
   "cell_type": "code",
   "execution_count": 43,
   "metadata": {
    "execution": {
     "iopub.execute_input": "2022-10-05T22:17:49.370529Z",
     "iopub.status.busy": "2022-10-05T22:17:49.370010Z",
     "iopub.status.idle": "2022-10-05T22:17:49.391191Z",
     "shell.execute_reply": "2022-10-05T22:17:49.389939Z",
     "shell.execute_reply.started": "2022-10-05T22:17:49.370492Z"
    },
    "scrolled": true
   },
   "outputs": [
    {
     "data": {
      "text/plain": [
       "array([[-1.22347131e-01,  2.66526401e-01,  3.71571188e-03,\n",
       "         1.94218243e-03,  9.34828073e-02, -3.66924345e-01,\n",
       "         7.48324394e-02,  5.83561361e-01, -1.97200462e-01,\n",
       "        -1.64139435e-01, -1.65900156e-01, -2.83149660e-01,\n",
       "        -1.14116654e-01,  1.51255086e-01,  9.59521383e-02,\n",
       "        -1.27788499e-01,  7.19507262e-02, -1.92199767e-01,\n",
       "        -3.32515128e-02, -4.48238671e-01,  8.91986117e-02,\n",
       "         9.57286954e-02,  2.59735901e-02, -6.77553713e-02,\n",
       "        -2.22508553e-02, -1.95921641e-02, -1.71424806e-01,\n",
       "        -1.93138883e-01, -2.04100087e-01, -6.10178076e-02,\n",
       "         2.54934818e-01, -1.29426830e-02,  9.68029127e-02,\n",
       "        -2.53352344e-01, -1.18303657e-01,  2.75886536e-01,\n",
       "         4.90510873e-02, -2.17145354e-01, -9.75972787e-02,\n",
       "        -5.58880091e-01,  7.40302633e-03, -1.77603334e-01,\n",
       "        -1.26718625e-01,  1.17016863e-02,  1.91906571e-01,\n",
       "        -1.43502966e-01, -1.77416384e-01,  1.33500043e-02,\n",
       "         1.89731359e-01,  1.52102724e-01,  2.16776073e-01,\n",
       "        -2.01316282e-01, -1.42309025e-01,  5.22437021e-02,\n",
       "        -1.82236940e-01,  1.25504211e-01,  1.22588910e-01,\n",
       "        -2.89923847e-02, -3.12252134e-01,  1.01907179e-01,\n",
       "         1.72875263e-02,  1.24046199e-01, -1.25373080e-01,\n",
       "        -9.07213464e-02, -4.15888369e-01,  2.25905284e-01,\n",
       "         1.15758620e-01,  1.86038673e-01, -3.11653376e-01,\n",
       "         3.05266798e-01, -2.75401503e-01,  9.43935663e-02,\n",
       "         2.36945897e-01, -1.12125054e-01,  2.33983859e-01,\n",
       "         1.10891536e-01, -3.59486300e-03, -5.75684421e-02,\n",
       "        -2.49460191e-01,  1.07568294e-01, -8.54607821e-02,\n",
       "        -1.62125640e-02, -2.32517257e-01,  3.93905520e-01,\n",
       "        -4.61457111e-02,  6.42523542e-02, -5.31881116e-03,\n",
       "         2.72235245e-01,  2.78137773e-01,  8.31978098e-02,\n",
       "         2.71673590e-01,  2.19315797e-01, -1.83088221e-02,\n",
       "         1.12846375e-01,  4.36324120e-01,  2.19457418e-01,\n",
       "         7.20414296e-02, -3.03953797e-01,  1.35468304e-01,\n",
       "        -7.53613338e-02],\n",
       "       [-9.39169154e-02,  2.37882778e-01,  7.36861397e-03,\n",
       "         1.04600834e-02,  8.99883732e-02, -3.28239948e-01,\n",
       "         6.61474988e-02,  5.17643452e-01, -1.80099115e-01,\n",
       "        -1.60180420e-01, -1.58033237e-01, -2.63765395e-01,\n",
       "        -1.02004416e-01,  1.29873872e-01,  9.45476517e-02,\n",
       "        -1.30970493e-01,  6.93743750e-02, -1.59780130e-01,\n",
       "        -2.65006907e-02, -4.12009597e-01,  6.88466132e-02,\n",
       "         8.21493790e-02,  9.78247263e-03, -5.81015572e-02,\n",
       "        -1.47532979e-02, -3.16466987e-02, -1.47317871e-01,\n",
       "        -1.59745902e-01, -1.74421981e-01, -5.71586192e-02,\n",
       "         2.19936624e-01, -4.68960963e-03,  8.35154504e-02,\n",
       "        -2.19174877e-01, -9.98868570e-02,  2.54391223e-01,\n",
       "         4.70530652e-02, -1.83070809e-01, -9.82847586e-02,\n",
       "        -4.98832941e-01,  5.11074858e-03, -1.60512924e-01,\n",
       "        -1.05574936e-01,  2.61892211e-02,  1.80732489e-01,\n",
       "        -1.12454228e-01, -1.59938410e-01,  1.62103623e-02,\n",
       "         1.61281675e-01,  1.43177867e-01,  2.03811854e-01,\n",
       "        -1.78105727e-01, -1.19849704e-01,  5.29496260e-02,\n",
       "        -1.57714501e-01,  1.19572207e-01,  1.18813023e-01,\n",
       "        -1.66913606e-02, -2.72820354e-01,  9.07637998e-02,\n",
       "         1.89237744e-02,  1.12312712e-01, -1.11130789e-01,\n",
       "        -7.95179904e-02, -3.77865911e-01,  1.87237933e-01,\n",
       "         1.05348215e-01,  1.46791041e-01, -2.91625649e-01,\n",
       "         2.65196502e-01, -2.43404239e-01,  7.67751783e-02,\n",
       "         2.15119109e-01, -9.87553298e-02,  1.96367413e-01,\n",
       "         1.16641194e-01,  1.31245033e-05, -5.69393560e-02,\n",
       "        -2.35525280e-01,  9.26008597e-02, -6.89117759e-02,\n",
       "        -1.33974720e-02, -2.06020430e-01,  3.39902014e-01,\n",
       "        -3.75864357e-02,  7.29407817e-02, -1.09577458e-02,\n",
       "         2.45736480e-01,  2.50683516e-01,  7.61504248e-02,\n",
       "         2.46993154e-01,  2.00904682e-01, -1.59248970e-02,\n",
       "         1.18720777e-01,  3.79143745e-01,  1.79816216e-01,\n",
       "         7.16543868e-02, -2.57192761e-01,  1.18700311e-01,\n",
       "        -7.37419203e-02],\n",
       "       [-2.93904264e-02,  7.37328753e-02,  1.64797343e-03,\n",
       "        -7.46534998e-03,  3.87514010e-02, -1.12434670e-01,\n",
       "         3.08165401e-02,  1.65538386e-01, -6.15570433e-02,\n",
       "        -4.53318506e-02, -5.69515489e-02, -7.65460357e-02,\n",
       "        -3.73121649e-02,  4.19331677e-02,  3.46094854e-02,\n",
       "        -3.51180881e-02,  2.04351377e-02, -5.57678081e-02,\n",
       "        -1.12255318e-02, -1.33729801e-01,  3.13466974e-02,\n",
       "         2.51026247e-02,  1.53752286e-02, -1.53229628e-02,\n",
       "        -1.01323030e-03, -1.23660127e-02, -6.06820099e-02,\n",
       "        -6.51246086e-02, -6.33738711e-02, -1.41241141e-02,\n",
       "         6.67860731e-02, -4.14203713e-03,  2.19908170e-02,\n",
       "        -6.56152815e-02, -3.70017029e-02,  8.58550519e-02,\n",
       "         5.24871144e-03, -6.74705207e-02, -2.47956328e-02,\n",
       "        -1.56445459e-01, -4.23041784e-04, -5.87573983e-02,\n",
       "        -2.88906060e-02,  1.21762687e-02,  5.24499454e-02,\n",
       "        -3.26757990e-02, -6.47735074e-02,  2.23004492e-04,\n",
       "         5.71980886e-02,  5.57162836e-02,  6.11513257e-02,\n",
       "        -6.07957356e-02, -3.63754407e-02,  7.06683099e-03,\n",
       "        -5.73660508e-02,  4.34931926e-02,  3.51392068e-02,\n",
       "        -3.89574515e-03, -9.15185586e-02,  3.44197266e-02,\n",
       "         1.38134575e-02,  3.39322872e-02, -4.56453487e-02,\n",
       "        -2.11899616e-02, -1.35943621e-01,  6.86538517e-02,\n",
       "         4.11465541e-02,  4.78577428e-02, -1.02704920e-01,\n",
       "         9.45887044e-02, -8.11931416e-02,  3.50211002e-02,\n",
       "         6.96803033e-02, -3.63402069e-02,  5.93676604e-02,\n",
       "         4.02700342e-02, -2.91336235e-03, -2.12279540e-02,\n",
       "        -7.27813542e-02,  3.97501066e-02, -2.78480686e-02,\n",
       "         3.80273326e-03, -6.51878417e-02,  1.13489836e-01,\n",
       "        -5.07902447e-03,  1.28578860e-02, -4.85683745e-03,\n",
       "         8.86359662e-02,  8.25008899e-02,  2.03703754e-02,\n",
       "         8.40621218e-02,  6.43173829e-02, -1.59921614e-03,\n",
       "         3.56005132e-02,  1.23701774e-01,  5.96698895e-02,\n",
       "         1.93263330e-02, -8.13400298e-02,  4.21794616e-02,\n",
       "        -2.82460265e-02],\n",
       "       [-6.08879142e-02,  1.20898679e-01,  8.16520676e-03,\n",
       "        -5.66847809e-03,  5.12670949e-02, -1.78680897e-01,\n",
       "         3.69240977e-02,  2.89649606e-01, -9.19121802e-02,\n",
       "        -8.92834067e-02, -8.79596472e-02, -1.42655224e-01,\n",
       "        -4.77943048e-02,  8.25804546e-02,  4.12196070e-02,\n",
       "        -6.45498633e-02,  4.26875837e-02, -9.54058394e-02,\n",
       "        -1.60984583e-02, -2.22554684e-01,  4.63029034e-02,\n",
       "         4.97613437e-02,  3.07833194e-03, -4.48507667e-02,\n",
       "        -2.60576233e-03, -1.88999623e-02, -8.86123776e-02,\n",
       "        -9.25471634e-02, -1.08805805e-01, -2.39406992e-02,\n",
       "         1.17514379e-01, -8.27991590e-03,  5.34073971e-02,\n",
       "        -1.16796911e-01, -5.39895482e-02,  1.37279078e-01,\n",
       "         1.96020566e-02, -9.40828770e-02, -5.73673397e-02,\n",
       "        -2.70799369e-01,  1.01507287e-02, -8.04612115e-02,\n",
       "        -7.09739104e-02,  1.66409127e-02,  1.07737482e-01,\n",
       "        -6.45245463e-02, -9.84532908e-02,  9.55491699e-03,\n",
       "         8.75124782e-02,  7.17571601e-02,  1.07357919e-01,\n",
       "        -1.09028265e-01, -5.97435459e-02,  3.12014315e-02,\n",
       "        -1.00753076e-01,  6.02539219e-02,  5.16094975e-02,\n",
       "        -1.09695010e-02, -1.58606619e-01,  4.45370562e-02,\n",
       "         1.35547761e-02,  6.08849302e-02, -5.99702746e-02,\n",
       "        -4.87258956e-02, -2.14980245e-01,  1.10450476e-01,\n",
       "         6.03195988e-02,  9.69830751e-02, -1.62660167e-01,\n",
       "         1.58209175e-01, -1.31763741e-01,  4.67502847e-02,\n",
       "         1.28410667e-01, -6.02918603e-02,  1.17531732e-01,\n",
       "         5.56793213e-02, -4.45643626e-03, -3.52337323e-02,\n",
       "        -1.36956960e-01,  5.95008694e-02, -5.04842028e-02,\n",
       "         4.40691086e-03, -1.18835583e-01,  1.99533939e-01,\n",
       "        -1.82607006e-02,  4.52036932e-02,  7.82198738e-03,\n",
       "         1.32187098e-01,  1.39750689e-01,  3.87557819e-02,\n",
       "         1.40289918e-01,  1.01388991e-01, -3.22099356e-03,\n",
       "         6.12772778e-02,  2.09306687e-01,  1.13420986e-01,\n",
       "         3.16324197e-02, -1.41549200e-01,  6.36581779e-02,\n",
       "        -3.17743644e-02],\n",
       "       [-1.54052721e-02,  4.76110317e-02,  8.34680069e-03,\n",
       "        -1.76324334e-03,  1.71499085e-02, -7.19392151e-02,\n",
       "         2.06593275e-02,  1.22055694e-01, -5.32187186e-02,\n",
       "        -3.80768962e-02, -3.82828973e-02, -5.85410893e-02,\n",
       "        -3.23019810e-02,  2.36765575e-02,  2.99284160e-02,\n",
       "        -2.77556498e-02,  1.07721202e-02, -4.72778268e-02,\n",
       "         1.15569821e-03, -1.04727790e-01,  1.55979674e-02,\n",
       "         2.58255247e-02,  5.50294761e-03, -2.00059544e-02,\n",
       "        -1.52017805e-03, -7.11352518e-03, -3.48765813e-02,\n",
       "        -3.02662179e-02, -4.73223105e-02, -6.18233578e-03,\n",
       "         5.65649420e-02, -2.67975568e-03,  2.62095612e-02,\n",
       "        -5.71269803e-02, -2.95520741e-02,  5.47822677e-02,\n",
       "         5.50934533e-03, -4.18991372e-02, -1.55705800e-02,\n",
       "        -1.29818216e-01, -5.33277448e-03, -3.69012021e-02,\n",
       "        -3.07394005e-02,  6.95457729e-03,  3.93569767e-02,\n",
       "        -3.70988287e-02, -3.85861471e-02, -6.73908787e-03,\n",
       "         4.59214002e-02,  4.15162779e-02,  5.23669347e-02,\n",
       "        -5.29653989e-02, -3.19016762e-02,  6.12026546e-03,\n",
       "        -4.41759937e-02,  3.38133611e-02,  3.13366652e-02,\n",
       "        -9.52717382e-03, -7.06503168e-02,  2.77815126e-02,\n",
       "        -5.69711998e-03,  1.64766982e-02, -1.86002199e-02,\n",
       "        -1.92622039e-02, -8.34012926e-02,  5.32318428e-02,\n",
       "         3.10330633e-02,  3.76049206e-02, -7.16950446e-02,\n",
       "         6.60401806e-02, -5.97102083e-02,  1.00335199e-02,\n",
       "         4.61688712e-02, -2.78834552e-02,  4.73671295e-02,\n",
       "         2.42073201e-02, -5.72882313e-03, -1.47860199e-02,\n",
       "        -6.27435073e-02,  2.18849033e-02, -1.50365923e-02,\n",
       "         8.06738026e-05, -4.23320234e-02,  7.43731633e-02,\n",
       "        -5.32636885e-03,  1.29150730e-02, -8.15521926e-03,\n",
       "         5.94796911e-02,  5.78189529e-02,  2.60022525e-02,\n",
       "         6.72594309e-02,  4.94008474e-02, -7.56789744e-03,\n",
       "         1.97701156e-02,  8.93993154e-02,  5.30050993e-02,\n",
       "         1.86439641e-02, -6.04233854e-02,  3.57060246e-02,\n",
       "        -1.10613760e-02],\n",
       "       [-1.18186317e-01,  2.71246076e-01,  2.53088563e-03,\n",
       "         6.27456466e-03,  1.09526299e-01, -3.95726234e-01,\n",
       "         8.99841860e-02,  6.03472590e-01, -2.20277771e-01,\n",
       "        -1.89251512e-01, -1.74541414e-01, -3.13662171e-01,\n",
       "        -1.12291329e-01,  1.66254699e-01,  1.03726879e-01,\n",
       "        -1.48236901e-01,  8.21340978e-02, -1.95180088e-01,\n",
       "        -4.16913964e-02, -4.77740675e-01,  1.02303103e-01,\n",
       "         1.01664610e-01,  2.76267808e-02, -7.98608214e-02,\n",
       "        -1.65324602e-02, -2.89369430e-02, -1.84559926e-01,\n",
       "        -2.00337023e-01, -2.13615566e-01, -6.36958554e-02,\n",
       "         2.56373256e-01, -1.43668391e-02,  1.04141317e-01,\n",
       "        -2.56840467e-01, -1.08329423e-01,  2.95720518e-01,\n",
       "         5.65868318e-02, -2.21459568e-01, -1.19781762e-01,\n",
       "        -5.94996274e-01,  1.28560374e-02, -1.96938038e-01,\n",
       "        -1.31656796e-01,  2.06035543e-02,  2.09216923e-01,\n",
       "        -1.55868024e-01, -1.97407395e-01,  1.81083754e-02,\n",
       "         1.95483565e-01,  1.65770799e-01,  2.32109740e-01,\n",
       "        -2.24467441e-01, -1.43756106e-01,  5.70547916e-02,\n",
       "        -1.91833362e-01,  1.34683445e-01,  1.37884885e-01,\n",
       "        -1.90542433e-02, -3.18073094e-01,  1.08653903e-01,\n",
       "         5.44626825e-03,  1.16254546e-01, -1.28870711e-01,\n",
       "        -9.89063382e-02, -4.57365900e-01,  2.40666509e-01,\n",
       "         1.17499508e-01,  1.88768163e-01, -3.47446263e-01,\n",
       "         3.25183898e-01, -3.07576358e-01,  8.76719579e-02,\n",
       "         2.66603708e-01, -1.27886012e-01,  2.32521057e-01,\n",
       "         1.38350293e-01, -2.85158795e-03, -7.24808052e-02,\n",
       "        -2.79094905e-01,  1.10912636e-01, -9.03410465e-02,\n",
       "        -1.18418299e-02, -2.59764165e-01,  4.15163368e-01,\n",
       "        -5.12275845e-02,  7.51496479e-02,  5.80319343e-03,\n",
       "         2.87822574e-01,  2.91166484e-01,  8.07894841e-02,\n",
       "         2.97784328e-01,  2.28495687e-01, -2.04607267e-02,\n",
       "         1.33181453e-01,  4.66967046e-01,  2.19928592e-01,\n",
       "         8.52967277e-02, -3.15517604e-01,  1.55486107e-01,\n",
       "        -8.02693814e-02],\n",
       "       [-1.84425294e-01,  4.29925919e-01,  1.16647445e-02,\n",
       "         1.19994665e-02,  1.54595181e-01, -6.01063013e-01,\n",
       "         1.41027823e-01,  9.34307575e-01, -3.27793747e-01,\n",
       "        -2.72747546e-01, -2.67899364e-01, -4.75501001e-01,\n",
       "        -1.79198995e-01,  2.38729596e-01,  1.65900692e-01,\n",
       "        -2.16421366e-01,  1.17281370e-01, -2.84280241e-01,\n",
       "        -5.81557974e-02, -7.38960028e-01,  1.43454999e-01,\n",
       "         1.43919691e-01,  1.97678953e-02, -1.22259766e-01,\n",
       "        -3.54267918e-02, -4.28232178e-02, -2.81090409e-01,\n",
       "        -3.05543244e-01, -3.37140441e-01, -1.05675876e-01,\n",
       "         3.93458307e-01, -1.62449256e-02,  1.79891527e-01,\n",
       "        -4.11206126e-01, -1.82374761e-01,  4.68724191e-01,\n",
       "         9.16346610e-02, -3.27082723e-01, -1.85417145e-01,\n",
       "        -8.91111314e-01,  2.29966734e-03, -2.80676365e-01,\n",
       "        -1.94879234e-01,  2.39083059e-02,  3.33426446e-01,\n",
       "        -2.31791481e-01, -3.02539080e-01,  1.91180948e-02,\n",
       "         3.12277764e-01,  2.66865700e-01,  3.65892500e-01,\n",
       "        -3.39070410e-01, -2.35539973e-01,  8.20914209e-02,\n",
       "        -2.96068132e-01,  2.11448640e-01,  2.02137381e-01,\n",
       "        -3.43875773e-02, -4.90301639e-01,  1.53697565e-01,\n",
       "         1.65224001e-02,  1.87507927e-01, -2.05676392e-01,\n",
       "        -1.45902276e-01, -6.84524357e-01,  3.56676847e-01,\n",
       "         1.82830349e-01,  2.96716362e-01, -5.22156298e-01,\n",
       "         4.90254015e-01, -4.52614009e-01,  1.46528929e-01,\n",
       "         3.99869025e-01, -1.70436144e-01,  3.74076873e-01,\n",
       "         1.99047133e-01, -6.27751136e-03, -1.07977152e-01,\n",
       "        -4.14236605e-01,  1.80956781e-01, -1.41772404e-01,\n",
       "        -1.98491868e-02, -3.94375384e-01,  6.22141898e-01,\n",
       "        -5.88767901e-02,  1.07031219e-01, -7.63546163e-03,\n",
       "         4.43128645e-01,  4.50922400e-01,  1.34803325e-01,\n",
       "         4.40507770e-01,  3.59250844e-01, -2.69731097e-02,\n",
       "         2.01719284e-01,  7.17641175e-01,  3.44080329e-01,\n",
       "         1.37476787e-01, -4.73277569e-01,  2.31006429e-01,\n",
       "        -1.30024374e-01],\n",
       "       [-8.25307369e-02,  1.80061758e-01,  5.37726562e-03,\n",
       "         1.35629403e-03,  6.30087256e-02, -2.58671939e-01,\n",
       "         4.93765399e-02,  3.99426341e-01, -1.47038519e-01,\n",
       "        -1.20982572e-01, -1.18302628e-01, -1.90839112e-01,\n",
       "        -8.01417083e-02,  1.09794535e-01,  8.39366093e-02,\n",
       "        -9.08668935e-02,  4.92163673e-02, -1.25587165e-01,\n",
       "        -1.93420760e-02, -3.29517394e-01,  5.93289584e-02,\n",
       "         6.39166310e-02,  1.95763577e-02, -5.60857765e-02,\n",
       "        -6.15957100e-03, -2.63862386e-02, -1.29308805e-01,\n",
       "        -1.28646597e-01, -1.42720923e-01, -4.75029834e-02,\n",
       "         1.76203758e-01, -1.79959100e-03,  7.70540908e-02,\n",
       "        -1.66667864e-01, -7.56856054e-02,  1.97391987e-01,\n",
       "         3.34209315e-02, -1.38863042e-01, -6.59620464e-02,\n",
       "        -3.80980909e-01,  5.57263242e-03, -1.15447998e-01,\n",
       "        -9.01510194e-02,  1.37131680e-02,  1.31652921e-01,\n",
       "        -9.76253152e-02, -1.40288219e-01,  6.04881253e-03,\n",
       "         1.25257984e-01,  1.08383760e-01,  1.56189352e-01,\n",
       "        -1.57142505e-01, -1.08331040e-01,  3.48286368e-02,\n",
       "        -1.24593906e-01,  9.11281481e-02,  8.78751650e-02,\n",
       "        -2.40067896e-02, -2.14546189e-01,  6.92763254e-02,\n",
       "         3.91481118e-03,  7.68685862e-02, -9.14704278e-02,\n",
       "        -6.96173608e-02, -3.08813602e-01,  1.65502444e-01,\n",
       "         8.71938467e-02,  1.23688251e-01, -2.16003567e-01,\n",
       "         2.09071055e-01, -1.92815974e-01,  5.54699376e-02,\n",
       "         1.64965436e-01, -7.22673386e-02,  1.58902451e-01,\n",
       "         8.28424022e-02, -2.05089105e-03, -4.81275283e-02,\n",
       "        -1.90602228e-01,  8.47818330e-02, -5.99067286e-02,\n",
       "        -3.46499635e-03, -1.59431338e-01,  2.66634136e-01,\n",
       "        -3.50779630e-02,  4.44830917e-02, -9.82229505e-03,\n",
       "         1.86869323e-01,  1.85459226e-01,  6.00456931e-02,\n",
       "         2.00134099e-01,  1.43983990e-01, -2.07997598e-02,\n",
       "         9.30985510e-02,  3.03446949e-01,  1.48349389e-01,\n",
       "         6.16752058e-02, -2.02254966e-01,  9.66163725e-02,\n",
       "        -5.38737029e-02],\n",
       "       [-4.08263616e-02,  9.80683342e-02,  6.05092617e-03,\n",
       "         1.37731573e-03,  4.62430045e-02, -1.42902419e-01,\n",
       "         2.07684413e-02,  2.27289170e-01, -6.81122765e-02,\n",
       "        -7.46077895e-02, -5.59979938e-02, -1.14377618e-01,\n",
       "        -3.45162861e-02,  5.54669797e-02,  4.23672311e-02,\n",
       "        -5.17223217e-02,  2.12086663e-02, -6.00691997e-02,\n",
       "        -1.58901569e-02, -1.75069913e-01,  2.72283126e-02,\n",
       "         4.31189910e-02, -2.76520499e-03, -3.67372595e-02,\n",
       "        -1.26362657e-02, -1.80530623e-02, -5.83967529e-02,\n",
       "        -7.71052986e-02, -7.50047714e-02, -2.62230057e-02,\n",
       "         8.66416693e-02, -5.16353548e-03,  3.00878640e-02,\n",
       "        -1.03397772e-01, -3.60210016e-02,  9.82033685e-02,\n",
       "         2.02200934e-02, -8.70782286e-02, -4.86870371e-02,\n",
       "        -2.06062451e-01,  1.10233109e-02, -6.38489723e-02,\n",
       "        -4.57943268e-02,  5.62414480e-03,  8.33725259e-02,\n",
       "        -5.19116968e-02, -7.57004544e-02,  2.17613555e-03,\n",
       "         6.80076107e-02,  5.74050359e-02,  7.76298717e-02,\n",
       "        -7.88348168e-02, -4.61448804e-02,  2.64192484e-02,\n",
       "        -7.22359717e-02,  5.30190021e-02,  4.72383313e-02,\n",
       "        -9.70673806e-04, -1.10171691e-01,  4.76077385e-02,\n",
       "         1.34406071e-02,  4.14672792e-02, -4.30622362e-02,\n",
       "        -2.79815961e-02, -1.65160283e-01,  8.96666944e-02,\n",
       "         5.43365218e-02,  7.54762664e-02, -1.19022042e-01,\n",
       "         1.07544765e-01, -1.12479776e-01,  4.09170948e-02,\n",
       "         9.81861874e-02, -3.92062403e-02,  8.62371027e-02,\n",
       "         4.25510220e-02,  1.77044980e-03, -1.44284861e-02,\n",
       "        -1.04410149e-01,  3.82245183e-02, -2.15108637e-02,\n",
       "         2.83504254e-04, -8.54376554e-02,  1.40771374e-01,\n",
       "        -2.09278259e-02,  2.78552547e-02, -2.39167362e-03,\n",
       "         1.01377264e-01,  9.55677181e-02,  2.87073217e-02,\n",
       "         1.07279785e-01,  9.26411673e-02, -3.08591570e-03,\n",
       "         4.41197641e-02,  1.73308253e-01,  8.69697630e-02,\n",
       "         2.78312173e-02, -1.16222896e-01,  5.06146215e-02,\n",
       "        -2.14874148e-02],\n",
       "       [-1.63269535e-01,  3.41582686e-01,  2.00967211e-02,\n",
       "         1.64615531e-02,  1.34089097e-01, -5.05783558e-01,\n",
       "         1.14086084e-01,  7.63556302e-01, -2.76783526e-01,\n",
       "        -2.21463114e-01, -2.23051205e-01, -3.84628117e-01,\n",
       "        -1.52106926e-01,  1.99571520e-01,  1.28261909e-01,\n",
       "        -1.75716028e-01,  9.19967368e-02, -2.44975030e-01,\n",
       "        -5.50949574e-02, -6.13055885e-01,  1.09864242e-01,\n",
       "         1.18578963e-01,  2.26914585e-02, -1.10963345e-01,\n",
       "        -1.47617450e-02, -4.33154032e-02, -2.38989949e-01,\n",
       "        -2.37387493e-01, -2.80254185e-01, -8.17115977e-02,\n",
       "         3.34166318e-01, -8.36373121e-03,  1.47153750e-01,\n",
       "        -3.22373778e-01, -1.50370568e-01,  3.76825094e-01,\n",
       "         7.22471029e-02, -2.83050388e-01, -1.51787296e-01,\n",
       "        -7.33617604e-01,  3.56545858e-03, -2.37339407e-01,\n",
       "        -1.54118747e-01,  1.95825286e-02,  2.74463594e-01,\n",
       "        -1.77720413e-01, -2.59447992e-01,  4.00548382e-03,\n",
       "         2.51144856e-01,  2.19222575e-01,  2.93843150e-01,\n",
       "        -2.75508672e-01, -1.75709605e-01,  8.06092769e-02,\n",
       "        -2.38292277e-01,  1.78878769e-01,  1.68196574e-01,\n",
       "        -2.21548099e-02, -4.06337529e-01,  1.42831892e-01,\n",
       "         5.19406609e-03,  1.54995665e-01, -1.56149879e-01,\n",
       "        -1.16539240e-01, -5.70420265e-01,  2.90839672e-01,\n",
       "         1.59417525e-01,  2.25387543e-01, -4.25629228e-01,\n",
       "         4.06482190e-01, -3.76190752e-01,  1.15926921e-01,\n",
       "         3.14493567e-01, -1.46518573e-01,  3.00305337e-01,\n",
       "         1.51083678e-01, -6.24805363e-03, -9.43995863e-02,\n",
       "        -3.52327913e-01,  1.36768416e-01, -1.12660401e-01,\n",
       "        -1.14710964e-02, -3.14725459e-01,  5.21960557e-01,\n",
       "        -6.17903918e-02,  1.05472513e-01,  2.63110735e-03,\n",
       "         3.57120007e-01,  3.68236899e-01,  1.14217609e-01,\n",
       "         3.71860653e-01,  2.92507082e-01, -2.81590372e-02,\n",
       "         1.55072495e-01,  5.84501266e-01,  2.72092372e-01,\n",
       "         1.08226232e-01, -3.98452163e-01,  1.86366767e-01,\n",
       "        -9.36037973e-02]], dtype=float32)"
      ]
     },
     "execution_count": 43,
     "metadata": {},
     "output_type": "execute_result"
    }
   ],
   "source": [
    "#unaveraged version where we have array of arrays\n",
    "X_train_w2v[0]"
   ]
  },
  {
   "cell_type": "code",
   "execution_count": 44,
   "metadata": {
    "execution": {
     "iopub.execute_input": "2022-10-05T22:17:57.180541Z",
     "iopub.status.busy": "2022-10-05T22:17:57.179564Z",
     "iopub.status.idle": "2022-10-05T22:17:57.188717Z",
     "shell.execute_reply": "2022-10-05T22:17:57.187753Z",
     "shell.execute_reply.started": "2022-10-05T22:17:57.180482Z"
    }
   },
   "outputs": [
    {
     "data": {
      "text/plain": [
       "array([-0.09111859,  0.20675366,  0.00749649,  0.00349744,  0.07981019,\n",
       "       -0.29623663,  0.0644623 ,  0.46065006, -0.16239934, -0.13760644,\n",
       "       -0.134692  , -0.23036654, -0.08917848,  0.11991364,  0.08204506,\n",
       "       -0.1069146 ,  0.05770572, -0.14605232, -0.02760949, -0.3655604 ,\n",
       "        0.06934724,  0.07497665,  0.01466099, -0.06119435, -0.01276602,\n",
       "       -0.02491332, -0.13952595, -0.14898425, -0.164676  , -0.04872329,\n",
       "        0.19625801, -0.00786726,  0.08202547, -0.19725522, -0.08915152,\n",
       "        0.22450595,  0.04005738, -0.16612026, -0.08652509, -0.4421545 ,\n",
       "        0.00522258, -0.14084867, -0.09794976,  0.01570944,  0.1604316 ,\n",
       "       -0.11051732, -0.15145509,  0.00820561,  0.14938167,  0.12819181,\n",
       "        0.17671287, -0.16772352, -0.1099661 ,  0.04305852, -0.146527  ,\n",
       "        0.10517949,  0.10028197, -0.01706503, -0.24452782,  0.08214767,\n",
       "        0.01024006,  0.09247468, -0.09859493, -0.07183642, -0.34143636,\n",
       "        0.17888317,  0.09548838,  0.1425312 , -0.25705966,  0.24278371,\n",
       "       -0.22331497,  0.07094885,  0.19404426, -0.08917103,  0.18066606,\n",
       "        0.0961564 , -0.0032338 , -0.05231691, -0.20981391,  0.08729492,\n",
       "       -0.06739329, -0.00676633, -0.18786271,  0.30878758, -0.03402988,\n",
       "        0.05681615, -0.00328818,  0.21745925,  0.22002444,  0.06630401,\n",
       "        0.22278449,  0.17522064, -0.01461004,  0.09754066,  0.34837404,\n",
       "        0.169679  ,  0.06338046, -0.23501845,  0.11158025, -0.05994437],\n",
       "      dtype=float32)"
      ]
     },
     "execution_count": 44,
     "metadata": {},
     "output_type": "execute_result"
    }
   ],
   "source": [
    "#averaged version - single array for a sentence (averaged)\n",
    "X_train_w2v_avg[0]"
   ]
  },
  {
   "cell_type": "markdown",
   "metadata": {},
   "source": [
    "### Fit Random Forest on top of these vectors"
   ]
  },
  {
   "cell_type": "code",
   "execution_count": 65,
   "metadata": {
    "execution": {
     "iopub.execute_input": "2022-10-05T22:44:08.583418Z",
     "iopub.status.busy": "2022-10-05T22:44:08.583010Z",
     "iopub.status.idle": "2022-10-05T22:44:14.415122Z",
     "shell.execute_reply": "2022-10-05T22:44:14.413993Z",
     "shell.execute_reply.started": "2022-10-05T22:44:08.583385Z"
    }
   },
   "outputs": [
    {
     "name": "stdout",
     "output_type": "stream",
     "text": [
      "              precision    recall  f1-score   support\n",
      "\n",
      "           0       0.86      0.99      0.92       964\n",
      "           1       0.08      0.01      0.01       151\n",
      "\n",
      "    accuracy                           0.85      1115\n",
      "   macro avg       0.47      0.50      0.47      1115\n",
      "weighted avg       0.76      0.85      0.80      1115\n",
      "\n"
     ]
    }
   ],
   "source": [
    "from sklearn.ensemble import RandomForestClassifier\n",
    "\n",
    "rf=RandomForestClassifier()\n",
    "rf_w2v=rf.fit(X_train_w2v_avg, y_train)\n",
    "\n",
    "\n",
    "from sklearn.metrics import classification_report\n",
    "print(classification_report(y_test, rf_w2v.predict(X_test_w2v_avg)))"
   ]
  },
  {
   "cell_type": "markdown",
   "metadata": {
    "execution": {
     "iopub.execute_input": "2022-10-05T22:31:15.273415Z",
     "iopub.status.busy": "2022-10-05T22:31:15.273000Z",
     "iopub.status.idle": "2022-10-05T22:31:15.279870Z",
     "shell.execute_reply": "2022-10-05T22:31:15.278380Z",
     "shell.execute_reply.started": "2022-10-05T22:31:15.273383Z"
    }
   },
   "source": [
    "## 3. Build model on Doc2Vec model"
   ]
  },
  {
   "cell_type": "code",
   "execution_count": 50,
   "metadata": {
    "execution": {
     "iopub.execute_input": "2022-10-05T22:31:26.965530Z",
     "iopub.status.busy": "2022-10-05T22:31:26.965078Z",
     "iopub.status.idle": "2022-10-05T22:31:26.974875Z",
     "shell.execute_reply": "2022-10-05T22:31:26.973438Z",
     "shell.execute_reply.started": "2022-10-05T22:31:26.965494Z"
    }
   },
   "outputs": [],
   "source": [
    "X_train, X_test, y_train, y_test= train_test_split(messages['cleaner_text'], labels, test_size=0.2)\n"
   ]
  },
  {
   "cell_type": "code",
   "execution_count": 52,
   "metadata": {
    "execution": {
     "iopub.execute_input": "2022-10-05T22:32:23.190640Z",
     "iopub.status.busy": "2022-10-05T22:32:23.190193Z",
     "iopub.status.idle": "2022-10-05T22:32:23.207090Z",
     "shell.execute_reply": "2022-10-05T22:32:23.205938Z",
     "shell.execute_reply.started": "2022-10-05T22:32:23.190602Z"
    }
   },
   "outputs": [],
   "source": [
    "import gensim\n",
    "train_tagged_doc=[gensim.models.doc2vec.TaggedDocument(j,[i]) for i,j in enumerate (X_train)]\n",
    "test_tagged_doc=[gensim.models.doc2vec.TaggedDocument(j,[i]) for i,j in enumerate (X_test)]"
   ]
  },
  {
   "cell_type": "code",
   "execution_count": 54,
   "metadata": {
    "execution": {
     "iopub.execute_input": "2022-10-05T22:32:40.316462Z",
     "iopub.status.busy": "2022-10-05T22:32:40.316062Z",
     "iopub.status.idle": "2022-10-05T22:32:40.324189Z",
     "shell.execute_reply": "2022-10-05T22:32:40.323103Z",
     "shell.execute_reply.started": "2022-10-05T22:32:40.316430Z"
    }
   },
   "outputs": [
    {
     "data": {
      "text/plain": [
       "[TaggedDocument(words=['er', 'yeah', 'b', '15', '26', 'sorry', 'tell', 'pub', 'cafe', 'sit', 'come', 'wen', 'u'], tags=[0]),\n",
       " TaggedDocument(words=['greatest', 'test', 'courage', 'earth', 'bear', 'defeat', 'without', 'losing', 'heart', 'gn', 'tc'], tags=[1]),\n",
       " TaggedDocument(words=['ok', 'try', 'week', 'end', 'course', 'coimbatore'], tags=[2]),\n",
       " TaggedDocument(words=['u', 'drive', 'lor'], tags=[3]),\n",
       " TaggedDocument(words=['good', 'evening', 'sir', 'hope', 'nice', 'day', 'wanted', 'bring', 'notice', 'late', 'paying', 'rent', 'past', 'months', 'pay', 'lt', 'gt', 'charge', 'felt', 'would', 'inconsiderate', 'nag', 'something', 'give', 'great', 'cost', 'didnt', 'speak', 'however', 'recession', 'wont', 'able', 'pay', 'charge', 'month', 'hence', 'askin', 'well', 'ahead', 'month', 'end', 'please', 'help', 'thank', 'everything'], tags=[4])]"
      ]
     },
     "execution_count": 54,
     "metadata": {},
     "output_type": "execute_result"
    }
   ],
   "source": [
    "train_tagged_doc[0:5]"
   ]
  },
  {
   "cell_type": "code",
   "execution_count": 55,
   "metadata": {
    "execution": {
     "iopub.execute_input": "2022-10-05T22:33:03.930933Z",
     "iopub.status.busy": "2022-10-05T22:33:03.930256Z",
     "iopub.status.idle": "2022-10-05T22:33:08.488160Z",
     "shell.execute_reply": "2022-10-05T22:33:08.486786Z",
     "shell.execute_reply.started": "2022-10-05T22:33:03.930876Z"
    }
   },
   "outputs": [],
   "source": [
    "#training a basic doc2vec model\n",
    "doc2vec=gensim.models.Doc2Vec(train_tagged_doc, vector_size=100, window=5, min_count=2)"
   ]
  },
  {
   "cell_type": "code",
   "execution_count": 62,
   "metadata": {
    "execution": {
     "iopub.execute_input": "2022-10-05T22:43:44.527378Z",
     "iopub.status.busy": "2022-10-05T22:43:44.526941Z",
     "iopub.status.idle": "2022-10-05T22:43:47.123830Z",
     "shell.execute_reply": "2022-10-05T22:43:47.122677Z",
     "shell.execute_reply.started": "2022-10-05T22:43:44.527345Z"
    }
   },
   "outputs": [],
   "source": [
    "X_train_d2v= [doc2vec.infer_vector(i.words) for i in train_tagged_doc]"
   ]
  },
  {
   "cell_type": "code",
   "execution_count": 63,
   "metadata": {
    "execution": {
     "iopub.execute_input": "2022-10-05T22:43:47.126901Z",
     "iopub.status.busy": "2022-10-05T22:43:47.126384Z",
     "iopub.status.idle": "2022-10-05T22:43:47.759923Z",
     "shell.execute_reply": "2022-10-05T22:43:47.758826Z",
     "shell.execute_reply.started": "2022-10-05T22:43:47.126832Z"
    }
   },
   "outputs": [],
   "source": [
    "X_test_d2v= [doc2vec.infer_vector(i.words) for i in test_tagged_doc]"
   ]
  },
  {
   "cell_type": "code",
   "execution_count": 66,
   "metadata": {
    "execution": {
     "iopub.execute_input": "2022-10-05T22:44:45.228593Z",
     "iopub.status.busy": "2022-10-05T22:44:45.228172Z",
     "iopub.status.idle": "2022-10-05T22:44:49.779911Z",
     "shell.execute_reply": "2022-10-05T22:44:49.778649Z",
     "shell.execute_reply.started": "2022-10-05T22:44:45.228560Z"
    }
   },
   "outputs": [
    {
     "name": "stdout",
     "output_type": "stream",
     "text": [
      "              precision    recall  f1-score   support\n",
      "\n",
      "           0       0.97      1.00      0.98       964\n",
      "           1       0.97      0.79      0.87       151\n",
      "\n",
      "    accuracy                           0.97      1115\n",
      "   macro avg       0.97      0.89      0.93      1115\n",
      "weighted avg       0.97      0.97      0.97      1115\n",
      "\n"
     ]
    }
   ],
   "source": [
    "from sklearn.ensemble import RandomForestClassifier\n",
    "\n",
    "rf=RandomForestClassifier()\n",
    "rf_d2v=rf.fit(X_train_d2v, y_train)\n",
    "\n",
    "\n",
    "from sklearn.metrics import classification_report\n",
    "print(classification_report(y_test, rf_d2v.predict(X_test_d2v)))"
   ]
  },
  {
   "cell_type": "markdown",
   "metadata": {
    "execution": {
     "iopub.execute_input": "2022-10-05T22:47:00.099537Z",
     "iopub.status.busy": "2022-10-05T22:47:00.099040Z",
     "iopub.status.idle": "2022-10-05T22:47:00.104271Z",
     "shell.execute_reply": "2022-10-05T22:47:00.103100Z",
     "shell.execute_reply.started": "2022-10-05T22:47:00.099500Z"
    }
   },
   "source": [
    "## 4. Build model on RNN"
   ]
  },
  {
   "cell_type": "code",
   "execution_count": 74,
   "metadata": {
    "execution": {
     "iopub.execute_input": "2022-10-05T22:50:07.053750Z",
     "iopub.status.busy": "2022-10-05T22:50:07.053188Z",
     "iopub.status.idle": "2022-10-05T22:50:07.062002Z",
     "shell.execute_reply": "2022-10-05T22:50:07.060923Z",
     "shell.execute_reply.started": "2022-10-05T22:50:07.053699Z"
    }
   },
   "outputs": [],
   "source": [
    "#train and test split\n",
    "X_train, X_test, y_train, y_test= train_test_split(messages['cleaner_text'], labels, test_size=0.2)\n",
    "#importing tensorflow and model building libraries\n",
    "import tensorflow as tf\n",
    "from tensorflow import keras\n",
    "from tensorflow.keras import layers"
   ]
  },
  {
   "cell_type": "markdown",
   "metadata": {},
   "source": [
    "## Using Tokenizer\n",
    "\n",
    "Tokenizer: Allows to vectorize a text corpus, by turning each text into either a sequence of integers (each integer being the index of a token in a dictionary) or into a vector where the coefficient for each token could be binary, based on word count, based on tf-idf...\n",
    "\n",
    "By default, all punctuation is removed, turning the texts into space-separated sequences of words (words maybe include the ' character). These sequences are then split into lists of tokens. They will then be indexed or vectorized.m\n",
    "\n",
    "## Using Pad Sequences\n",
    "This function transforms a list (of length num_samples) of sequences (lists of integers) into a 2D Numpy array of shape (num_samples, num_timesteps). num_timesteps is either the maxlen argument if provided, or the length of the longest sequence in the list.\n",
    "\n"
   ]
  },
  {
   "cell_type": "code",
   "execution_count": 75,
   "metadata": {
    "execution": {
     "iopub.execute_input": "2022-10-05T22:50:08.990100Z",
     "iopub.status.busy": "2022-10-05T22:50:08.989259Z",
     "iopub.status.idle": "2022-10-05T22:50:08.996189Z",
     "shell.execute_reply": "2022-10-05T22:50:08.994551Z",
     "shell.execute_reply.started": "2022-10-05T22:50:08.990054Z"
    }
   },
   "outputs": [],
   "source": [
    "\n",
    "from tensorflow.keras.preprocessing.text import Tokenizer\n",
    "from tensorflow.keras.preprocessing.sequence import pad_sequences"
   ]
  },
  {
   "cell_type": "code",
   "execution_count": 76,
   "metadata": {
    "execution": {
     "iopub.execute_input": "2022-10-05T22:50:12.364522Z",
     "iopub.status.busy": "2022-10-05T22:50:12.363455Z",
     "iopub.status.idle": "2022-10-05T22:50:12.431009Z",
     "shell.execute_reply": "2022-10-05T22:50:12.429401Z",
     "shell.execute_reply.started": "2022-10-05T22:50:12.364475Z"
    }
   },
   "outputs": [],
   "source": [
    "tokenizer=Tokenizer(oov_token=\"<OOV>\")\n",
    "tokenizer.fit_on_texts(X_train)"
   ]
  },
  {
   "cell_type": "code",
   "execution_count": null,
   "metadata": {},
   "outputs": [],
   "source": [
    "print(tokenizer.index_word)"
   ]
  },
  {
   "cell_type": "code",
   "execution_count": 79,
   "metadata": {
    "execution": {
     "iopub.execute_input": "2022-10-05T22:51:00.851377Z",
     "iopub.status.busy": "2022-10-05T22:51:00.850926Z",
     "iopub.status.idle": "2022-10-05T22:51:00.900123Z",
     "shell.execute_reply": "2022-10-05T22:51:00.898711Z",
     "shell.execute_reply.started": "2022-10-05T22:51:00.851338Z"
    }
   },
   "outputs": [],
   "source": [
    "X_train_seq=tokenizer.texts_to_sequences(X_train)\n",
    "X_test_seq=tokenizer.texts_to_sequences(X_test)"
   ]
  },
  {
   "cell_type": "code",
   "execution_count": 81,
   "metadata": {
    "execution": {
     "iopub.execute_input": "2022-10-05T22:51:14.064143Z",
     "iopub.status.busy": "2022-10-05T22:51:14.063620Z",
     "iopub.status.idle": "2022-10-05T22:51:14.072244Z",
     "shell.execute_reply": "2022-10-05T22:51:14.070825Z",
     "shell.execute_reply.started": "2022-10-05T22:51:14.064098Z"
    }
   },
   "outputs": [
    {
     "data": {
      "text/plain": [
       "[6,\n",
       " 87,\n",
       " 632,\n",
       " 589,\n",
       " 183,\n",
       " 436,\n",
       " 981,\n",
       " 6,\n",
       " 87,\n",
       " 23,\n",
       " 12,\n",
       " 489,\n",
       " 103,\n",
       " 71,\n",
       " 1106,\n",
       " 1293,\n",
       " 289,\n",
       " 269,\n",
       " 1843,\n",
       " 1844,\n",
       " 1845,\n",
       " 1497]"
      ]
     },
     "execution_count": 81,
     "metadata": {},
     "output_type": "execute_result"
    }
   ],
   "source": [
    "X_train_seq[1]"
   ]
  },
  {
   "cell_type": "code",
   "execution_count": 82,
   "metadata": {
    "execution": {
     "iopub.execute_input": "2022-10-05T22:51:27.119540Z",
     "iopub.status.busy": "2022-10-05T22:51:27.119071Z",
     "iopub.status.idle": "2022-10-05T22:51:27.147827Z",
     "shell.execute_reply": "2022-10-05T22:51:27.146645Z",
     "shell.execute_reply.started": "2022-10-05T22:51:27.119505Z"
    }
   },
   "outputs": [],
   "source": [
    "X_train_seq_padded = pad_sequences(X_train_seq,maxlen=50, padding='post')\n",
    "X_test_seq_padded = pad_sequences(X_test_seq,maxlen=50, padding='post')"
   ]
  },
  {
   "cell_type": "code",
   "execution_count": 83,
   "metadata": {
    "execution": {
     "iopub.execute_input": "2022-10-05T22:51:35.446065Z",
     "iopub.status.busy": "2022-10-05T22:51:35.445629Z",
     "iopub.status.idle": "2022-10-05T22:51:35.455004Z",
     "shell.execute_reply": "2022-10-05T22:51:35.453645Z",
     "shell.execute_reply.started": "2022-10-05T22:51:35.446024Z"
    }
   },
   "outputs": [
    {
     "data": {
      "text/plain": [
       "array([   1, 7028,  671,    0,    0,    0,    0,    0,    0,    0,    0,\n",
       "          0,    0,    0,    0,    0,    0,    0,    0,    0,    0,    0,\n",
       "          0,    0,    0,    0,    0,    0,    0,    0,    0,    0,    0,\n",
       "          0,    0,    0,    0,    0,    0,    0,    0,    0,    0,    0,\n",
       "          0,    0,    0,    0,    0,    0], dtype=int32)"
      ]
     },
     "execution_count": 83,
     "metadata": {},
     "output_type": "execute_result"
    }
   ],
   "source": [
    "X_test_seq_padded[1]"
   ]
  },
  {
   "cell_type": "code",
   "execution_count": 84,
   "metadata": {
    "execution": {
     "iopub.execute_input": "2022-10-05T22:51:45.201442Z",
     "iopub.status.busy": "2022-10-05T22:51:45.201038Z",
     "iopub.status.idle": "2022-10-05T22:51:45.695450Z",
     "shell.execute_reply": "2022-10-05T22:51:45.693930Z",
     "shell.execute_reply.started": "2022-10-05T22:51:45.201410Z"
    }
   },
   "outputs": [
    {
     "name": "stderr",
     "output_type": "stream",
     "text": [
      "2022-10-05 22:51:45.269345: I tensorflow/core/common_runtime/process_util.cc:146] Creating new thread pool with default inter op setting: 2. Tune using inter_op_parallelism_threads for best performance.\n"
     ]
    },
    {
     "name": "stdout",
     "output_type": "stream",
     "text": [
      "Model: \"sequential\"\n",
      "_________________________________________________________________\n",
      "Layer (type)                 Output Shape              Param #   \n",
      "=================================================================\n",
      "embedding (Embedding)        (None, None, 32)          245408    \n",
      "_________________________________________________________________\n",
      "lstm (LSTM)                  (None, 32)                8320      \n",
      "_________________________________________________________________\n",
      "dense (Dense)                (None, 32)                1056      \n",
      "_________________________________________________________________\n",
      "dense_1 (Dense)              (None, 1)                 33        \n",
      "=================================================================\n",
      "Total params: 254,817\n",
      "Trainable params: 254,817\n",
      "Non-trainable params: 0\n",
      "_________________________________________________________________\n"
     ]
    }
   ],
   "source": [
    "#Building the model\n",
    "model = keras.Sequential()\n",
    "# Add an Embedding layer expecting input vocab of size 1000, and\n",
    "# output embedding dimension of size 32.\n",
    "model.add(layers.Embedding(input_dim=len(tokenizer.index_word)+1, output_dim=32)) #you can test output_dim\n",
    "\n",
    "# Add a LSTM layer with 128 internal units.\n",
    "model.add(layers.LSTM(32, dropout=0, recurrent_dropout=0)) #output of previous layer i.e 32\n",
    "\n",
    "# Add a Dense layer with 10 units.\n",
    "model.add(layers.Dense(32, activation='relu'))\n",
    "#final layer which will tell whether it's a spam or ham\n",
    "model.add(layers.Dense(1, activation='sigmoid'))\n",
    "\n",
    "model.summary()"
   ]
  },
  {
   "cell_type": "code",
   "execution_count": 85,
   "metadata": {
    "execution": {
     "iopub.execute_input": "2022-10-05T22:51:53.077446Z",
     "iopub.status.busy": "2022-10-05T22:51:53.076973Z",
     "iopub.status.idle": "2022-10-05T22:51:53.099533Z",
     "shell.execute_reply": "2022-10-05T22:51:53.098030Z",
     "shell.execute_reply.started": "2022-10-05T22:51:53.077404Z"
    }
   },
   "outputs": [],
   "source": [
    "import tensorflow.keras.backend as K\n",
    "def recall_m(y_true, y_pred):\n",
    "        true_positives = K.sum(K.round(K.clip(y_true * y_pred, 0, 1)))\n",
    "        possible_positives = K.sum(K.round(K.clip(y_true, 0, 1)))\n",
    "        recall = true_positives / (possible_positives + K.epsilon())\n",
    "        return recall\n",
    "\n",
    "def precision_m(y_true, y_pred):\n",
    "        true_positives = K.sum(K.round(K.clip(y_true * y_pred, 0, 1)))\n",
    "        predicted_positives = K.sum(K.round(K.clip(y_pred, 0, 1)))\n",
    "        precision = true_positives / (predicted_positives + K.epsilon())\n",
    "        return precision\n",
    "\n",
    "#compile the model\n",
    "model.compile(\n",
    "    loss='binary_crossentropy',\n",
    "    optimizer=\"adam\",\n",
    "    metrics=['accuracy',recall_m,precision_m]\n",
    ")\n"
   ]
  },
  {
   "cell_type": "code",
   "execution_count": 86,
   "metadata": {
    "execution": {
     "iopub.execute_input": "2022-10-05T22:51:59.494616Z",
     "iopub.status.busy": "2022-10-05T22:51:59.493771Z",
     "iopub.status.idle": "2022-10-05T22:53:23.871875Z",
     "shell.execute_reply": "2022-10-05T22:53:23.870573Z",
     "shell.execute_reply.started": "2022-10-05T22:51:59.494573Z"
    }
   },
   "outputs": [
    {
     "name": "stderr",
     "output_type": "stream",
     "text": [
      "2022-10-05 22:51:59.561988: I tensorflow/compiler/mlir/mlir_graph_optimization_pass.cc:185] None of the MLIR Optimization Passes are enabled (registered 2)\n"
     ]
    },
    {
     "name": "stdout",
     "output_type": "stream",
     "text": [
      "Epoch 1/10\n",
      "140/140 [==============================] - 10s 52ms/step - loss: 0.3678 - accuracy: 0.8791 - recall_m: 0.2128 - precision_m: 0.1901 - val_loss: 0.1045 - val_accuracy: 0.9857 - val_recall_m: 0.9240 - val_precision_m: 0.9517\n",
      "Epoch 2/10\n",
      "140/140 [==============================] - 7s 51ms/step - loss: 0.0744 - accuracy: 0.9854 - recall_m: 0.9299 - precision_m: 0.9223 - val_loss: 0.0702 - val_accuracy: 0.9821 - val_recall_m: 0.9655 - val_precision_m: 0.9016\n",
      "Epoch 3/10\n",
      "140/140 [==============================] - 7s 47ms/step - loss: 0.0363 - accuracy: 0.9928 - recall_m: 0.9690 - precision_m: 0.9786 - val_loss: 0.0519 - val_accuracy: 0.9892 - val_recall_m: 0.9655 - val_precision_m: 0.9606\n",
      "Epoch 4/10\n",
      "140/140 [==============================] - 7s 47ms/step - loss: 0.0126 - accuracy: 0.9982 - recall_m: 0.9850 - precision_m: 0.9900 - val_loss: 0.0663 - val_accuracy: 0.9883 - val_recall_m: 0.9655 - val_precision_m: 0.9514\n",
      "Epoch 5/10\n",
      "140/140 [==============================] - 7s 49ms/step - loss: 0.0096 - accuracy: 0.9987 - recall_m: 0.9869 - precision_m: 0.9893 - val_loss: 0.2133 - val_accuracy: 0.9632 - val_recall_m: 0.9690 - val_precision_m: 0.7833\n",
      "Epoch 6/10\n",
      "140/140 [==============================] - 7s 47ms/step - loss: 0.0056 - accuracy: 0.9993 - recall_m: 0.9976 - precision_m: 0.9991 - val_loss: 0.0648 - val_accuracy: 0.9892 - val_recall_m: 0.9619 - val_precision_m: 0.9640\n",
      "Epoch 7/10\n",
      "140/140 [==============================] - 7s 52ms/step - loss: 0.0056 - accuracy: 0.9993 - recall_m: 0.9821 - precision_m: 0.9843 - val_loss: 0.0657 - val_accuracy: 0.9901 - val_recall_m: 0.9619 - val_precision_m: 0.9697\n",
      "Epoch 8/10\n",
      "140/140 [==============================] - 7s 47ms/step - loss: 0.0042 - accuracy: 0.9996 - recall_m: 0.9893 - precision_m: 0.9929 - val_loss: 0.0619 - val_accuracy: 0.9910 - val_recall_m: 0.9619 - val_precision_m: 0.9738\n",
      "Epoch 9/10\n",
      "140/140 [==============================] - 6s 46ms/step - loss: 0.0040 - accuracy: 0.9996 - recall_m: 0.9829 - precision_m: 0.9857 - val_loss: 0.0620 - val_accuracy: 0.9910 - val_recall_m: 0.9619 - val_precision_m: 0.9738\n",
      "Epoch 10/10\n",
      "140/140 [==============================] - 7s 47ms/step - loss: 0.0022 - accuracy: 0.9998 - recall_m: 0.9700 - precision_m: 0.9714 - val_loss: 0.0617 - val_accuracy: 0.9919 - val_recall_m: 0.9619 - val_precision_m: 0.9833\n"
     ]
    }
   ],
   "source": [
    "history=model.fit(\n",
    "    X_train_seq_padded, y_train, validation_data=(X_test_seq_padded, y_test), batch_size=32, epochs=10\n",
    ")"
   ]
  },
  {
   "cell_type": "code",
   "execution_count": null,
   "metadata": {},
   "outputs": [],
   "source": [
    "# Plot the evaluation metrics by each epoch for the model to see if we are over or underfitting\n",
    "import matplotlib.pyplot as plt\n",
    "\n",
    "for i in ['accuracy', 'precision_m', 'recall_m']:\n",
    "    acc = history.history[i]\n",
    "    val_acc = history.history['val_{}'.format(i)]\n",
    "    epochs = range(1, len(acc) + 1)\n",
    "\n",
    "    plt.figure()\n",
    "    plt.plot(epochs, acc, label='Training Accuracy')\n",
    "    plt.plot(epochs, val_acc, label='Validation Accuracy')\n",
    "    plt.title('Results for {}'.format(i))\n",
    "    plt.legend()\n",
    "    plt.show()"
   ]
  }
 ],
 "metadata": {
  "kernelspec": {
   "display_name": "Python 3",
   "language": "python",
   "name": "python3"
  },
  "language_info": {
   "codemirror_mode": {
    "name": "ipython",
    "version": 3
   },
   "file_extension": ".py",
   "mimetype": "text/x-python",
   "name": "python",
   "nbconvert_exporter": "python",
   "pygments_lexer": "ipython3",
   "version": "3.9.12"
  }
 },
 "nbformat": 4,
 "nbformat_minor": 4
}
