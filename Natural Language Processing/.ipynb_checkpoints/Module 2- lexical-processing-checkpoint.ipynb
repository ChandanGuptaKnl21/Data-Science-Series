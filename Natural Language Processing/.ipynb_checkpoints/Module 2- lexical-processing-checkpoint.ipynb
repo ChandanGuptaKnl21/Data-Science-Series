{
 "cells": [
  {
   "cell_type": "markdown",
   "metadata": {
    "execution": {
     "iopub.execute_input": "2021-07-05T20:38:54.194331Z",
     "iopub.status.busy": "2021-07-05T20:38:54.193698Z",
     "iopub.status.idle": "2021-07-05T20:38:56.031747Z",
     "shell.execute_reply": "2021-07-05T20:38:56.03012Z",
     "shell.execute_reply.started": "2021-07-05T20:38:54.194202Z"
    }
   },
   "source": [
    "## Step 1: Reading data from a URL and Processing it using NLTK Library and Regex"
   ]
  },
  {
   "cell_type": "code",
   "execution_count": null,
   "metadata": {},
   "outputs": [],
   "source": [
    "import requests\n",
    "from nltk import FreqDist\n",
    "import seaborn as sbn\n",
    "from nltk.corpus import stopwords\n",
    "from matplotlib import pyplot"
   ]
  },
  {
   "cell_type": "code",
   "execution_count": null,
   "metadata": {
    "execution": {
     "iopub.execute_input": "2021-07-05T20:38:56.034104Z",
     "iopub.status.busy": "2021-07-05T20:38:56.033739Z",
     "iopub.status.idle": "2021-07-05T20:39:00.860009Z",
     "shell.execute_reply": "2021-07-05T20:39:00.858719Z",
     "shell.execute_reply.started": "2021-07-05T20:38:56.03407Z"
    }
   },
   "outputs": [],
   "source": [
    "url='https://www.gutenberg.org/files/11/11-0.txt'\n",
    "alice=requests.get(url)"
   ]
  },
  {
   "cell_type": "code",
   "execution_count": null,
   "metadata": {
    "execution": {
     "iopub.execute_input": "2021-07-05T20:39:00.863736Z",
     "iopub.status.busy": "2021-07-05T20:39:00.863248Z",
     "iopub.status.idle": "2021-07-05T20:39:00.882281Z",
     "shell.execute_reply": "2021-07-05T20:39:00.88111Z",
     "shell.execute_reply.started": "2021-07-05T20:39:00.863683Z"
    },
    "scrolled": true
   },
   "outputs": [],
   "source": [
    "print(alice.content.decode(\"utf8\"))"
   ]
  },
  {
   "cell_type": "code",
   "execution_count": null,
   "metadata": {
    "execution": {
     "iopub.execute_input": "2021-07-05T20:39:00.8849Z",
     "iopub.status.busy": "2021-07-05T20:39:00.8844Z",
     "iopub.status.idle": "2021-07-05T20:39:00.897859Z",
     "shell.execute_reply": "2021-07-05T20:39:00.896772Z",
     "shell.execute_reply.started": "2021-07-05T20:39:00.884843Z"
    }
   },
   "outputs": [],
   "source": [
    "#words=[i for i in alice.content.decode(\"utf8\").split()]\n",
    "#or \n",
    "words=alice.content.decode(\"utf8\").split()\n"
   ]
  },
  {
   "cell_type": "code",
   "execution_count": null,
   "metadata": {
    "execution": {
     "iopub.execute_input": "2021-07-05T20:39:00.899663Z",
     "iopub.status.busy": "2021-07-05T20:39:00.899357Z",
     "iopub.status.idle": "2021-07-05T20:39:00.938379Z",
     "shell.execute_reply": "2021-07-05T20:39:00.936561Z",
     "shell.execute_reply.started": "2021-07-05T20:39:00.899634Z"
    },
    "scrolled": true
   },
   "outputs": [],
   "source": [
    "words"
   ]
  },
  {
   "cell_type": "code",
   "execution_count": null,
   "metadata": {
    "execution": {
     "iopub.execute_input": "2021-07-05T20:39:00.940332Z",
     "iopub.status.busy": "2021-07-05T20:39:00.939926Z",
     "iopub.status.idle": "2021-07-05T20:39:01.027598Z",
     "shell.execute_reply": "2021-07-05T20:39:01.026764Z",
     "shell.execute_reply.started": "2021-07-05T20:39:00.940296Z"
    }
   },
   "outputs": [],
   "source": [
    "import re \n",
    "new_words=[]\n",
    "for i in words:\n",
    "    re.sub('\\â\\x80\\x99','\\'', i)\n",
    "    new_words.append(re.sub('\\â\\x80\\x99','\\'', i))\n",
    "    "
   ]
  },
  {
   "cell_type": "code",
   "execution_count": null,
   "metadata": {
    "execution": {
     "iopub.execute_input": "2021-07-05T20:39:01.029376Z",
     "iopub.status.busy": "2021-07-05T20:39:01.02876Z",
     "iopub.status.idle": "2021-07-05T20:39:01.097021Z",
     "shell.execute_reply": "2021-07-05T20:39:01.095808Z",
     "shell.execute_reply.started": "2021-07-05T20:39:01.02933Z"
    },
    "scrolled": true
   },
   "outputs": [],
   "source": [
    "import re \n",
    "final_words=[]\n",
    "for j,i in enumerate(new_words):\n",
    "    result=re.search('[a-zA-Z0-9].*[^,  .]',i)\n",
    "    try:\n",
    "        match=result.group(0)\n",
    "    except AttributeError:\n",
    "        match=result\n",
    "    final_words.append(match)\n",
    "    \n",
    "    "
   ]
  },
  {
   "cell_type": "code",
   "execution_count": null,
   "metadata": {
    "execution": {
     "iopub.execute_input": "2021-07-05T20:39:01.100328Z",
     "iopub.status.busy": "2021-07-05T20:39:01.099964Z",
     "iopub.status.idle": "2021-07-05T20:39:01.125478Z",
     "shell.execute_reply": "2021-07-05T20:39:01.124277Z",
     "shell.execute_reply.started": "2021-07-05T20:39:01.100294Z"
    },
    "scrolled": true
   },
   "outputs": [],
   "source": [
    "final_words"
   ]
  },
  {
   "cell_type": "code",
   "execution_count": null,
   "metadata": {
    "execution": {
     "iopub.execute_input": "2021-07-05T20:39:01.127596Z",
     "iopub.status.busy": "2021-07-05T20:39:01.127286Z",
     "iopub.status.idle": "2021-07-05T20:39:01.142627Z",
     "shell.execute_reply": "2021-07-05T20:39:01.141708Z",
     "shell.execute_reply.started": "2021-07-05T20:39:01.127568Z"
    }
   },
   "outputs": [],
   "source": [
    "final_words=list(filter(None, (final_words)))\n",
    "final_words=list(map(lambda x: x.lower(),final_words))"
   ]
  },
  {
   "cell_type": "code",
   "execution_count": null,
   "metadata": {
    "execution": {
     "iopub.execute_input": "2021-07-05T20:39:01.144194Z",
     "iopub.status.busy": "2021-07-05T20:39:01.143758Z",
     "iopub.status.idle": "2021-07-05T20:39:01.1552Z",
     "shell.execute_reply": "2021-07-05T20:39:01.154242Z",
     "shell.execute_reply.started": "2021-07-05T20:39:01.144157Z"
    }
   },
   "outputs": [],
   "source": [
    "#final_text=' '.join(final_words)\n",
    "final_text=final_words"
   ]
  },
  {
   "cell_type": "code",
   "execution_count": null,
   "metadata": {
    "execution": {
     "iopub.execute_input": "2021-07-05T20:39:01.156859Z",
     "iopub.status.busy": "2021-07-05T20:39:01.156334Z",
     "iopub.status.idle": "2021-07-05T20:39:01.188353Z",
     "shell.execute_reply": "2021-07-05T20:39:01.187578Z",
     "shell.execute_reply.started": "2021-07-05T20:39:01.156762Z"
    },
    "scrolled": true
   },
   "outputs": [],
   "source": [
    "final_text"
   ]
  },
  {
   "cell_type": "code",
   "execution_count": null,
   "metadata": {
    "execution": {
     "iopub.execute_input": "2021-07-05T20:39:01.189981Z",
     "iopub.status.busy": "2021-07-05T20:39:01.189535Z",
     "iopub.status.idle": "2021-07-05T20:39:01.200424Z",
     "shell.execute_reply": "2021-07-05T20:39:01.199453Z",
     "shell.execute_reply.started": "2021-07-05T20:39:01.189948Z"
    },
    "scrolled": true
   },
   "outputs": [],
   "source": [
    "#function for getting the most common words \n",
    "def barplot_most_common(text, top_n):\n",
    "    word_freq=FreqDist(text)\n",
    "    pyplot.figure(figsize=(10,8))\n",
    "    \n",
    "    labels=[i[0] for i in word_freq.most_common(top_n)]\n",
    "    counts=[i[1] for i in word_freq.most_common(top_n)]\n",
    "    plot=sbn.barplot(labels,counts)\n",
    "    \n",
    "    return plot\n",
    "    "
   ]
  },
  {
   "cell_type": "code",
   "execution_count": null,
   "metadata": {
    "execution": {
     "iopub.execute_input": "2021-07-05T20:39:01.202128Z",
     "iopub.status.busy": "2021-07-05T20:39:01.201658Z",
     "iopub.status.idle": "2021-07-05T20:39:01.660235Z",
     "shell.execute_reply": "2021-07-05T20:39:01.659042Z",
     "shell.execute_reply.started": "2021-07-05T20:39:01.202083Z"
    }
   },
   "outputs": [],
   "source": [
    "barplot_most_common(final_text,15)"
   ]
  },
  {
   "cell_type": "code",
   "execution_count": null,
   "metadata": {
    "execution": {
     "iopub.execute_input": "2021-07-05T20:39:01.661898Z",
     "iopub.status.busy": "2021-07-05T20:39:01.661588Z",
     "iopub.status.idle": "2021-07-05T20:39:01.683303Z",
     "shell.execute_reply": "2021-07-05T20:39:01.682279Z",
     "shell.execute_reply.started": "2021-07-05T20:39:01.661868Z"
    }
   },
   "outputs": [],
   "source": [
    "print(stopwords.words('english'))\n",
    "stop_words=stopwords.words('english')"
   ]
  },
  {
   "cell_type": "code",
   "execution_count": null,
   "metadata": {
    "execution": {
     "iopub.execute_input": "2021-07-05T20:39:01.684855Z",
     "iopub.status.busy": "2021-07-05T20:39:01.684565Z",
     "iopub.status.idle": "2021-07-05T20:39:01.735036Z",
     "shell.execute_reply": "2021-07-05T20:39:01.733749Z",
     "shell.execute_reply.started": "2021-07-05T20:39:01.684826Z"
    }
   },
   "outputs": [],
   "source": [
    "words_filtered=[i for i in final_text if i not in stop_words]"
   ]
  },
  {
   "cell_type": "code",
   "execution_count": null,
   "metadata": {
    "execution": {
     "iopub.execute_input": "2021-07-05T20:39:01.736605Z",
     "iopub.status.busy": "2021-07-05T20:39:01.736298Z",
     "iopub.status.idle": "2021-07-05T20:39:02.022405Z",
     "shell.execute_reply": "2021-07-05T20:39:02.021189Z",
     "shell.execute_reply.started": "2021-07-05T20:39:01.736577Z"
    }
   },
   "outputs": [],
   "source": [
    "barplot_most_common(words_filtered,15)"
   ]
  },
  {
   "cell_type": "markdown",
   "metadata": {},
   "source": [
    "## Step 2: Tokenization"
   ]
  },
  {
   "cell_type": "code",
   "execution_count": null,
   "metadata": {
    "execution": {
     "iopub.execute_input": "2021-07-05T20:39:02.024748Z",
     "iopub.status.busy": "2021-07-05T20:39:02.024178Z",
     "iopub.status.idle": "2021-07-05T20:39:02.030661Z",
     "shell.execute_reply": "2021-07-05T20:39:02.029198Z",
     "shell.execute_reply.started": "2021-07-05T20:39:02.024698Z"
    },
    "scrolled": true
   },
   "outputs": [],
   "source": [
    "document = \"At nine o'clock I visited him myself. It looks like religious mania, and he'll soon think that he himself is God.\""
   ]
  },
  {
   "cell_type": "code",
   "execution_count": null,
   "metadata": {
    "execution": {
     "iopub.execute_input": "2021-07-05T20:39:02.033314Z",
     "iopub.status.busy": "2021-07-05T20:39:02.032875Z",
     "iopub.status.idle": "2021-07-05T20:39:02.047186Z",
     "shell.execute_reply": "2021-07-05T20:39:02.046042Z",
     "shell.execute_reply.started": "2021-07-05T20:39:02.033278Z"
    }
   },
   "outputs": [],
   "source": [
    "document.split()"
   ]
  },
  {
   "cell_type": "code",
   "execution_count": null,
   "metadata": {
    "execution": {
     "iopub.execute_input": "2021-07-05T20:39:02.049249Z",
     "iopub.status.busy": "2021-07-05T20:39:02.048758Z",
     "iopub.status.idle": "2021-07-05T20:39:02.075877Z",
     "shell.execute_reply": "2021-07-05T20:39:02.074782Z",
     "shell.execute_reply.started": "2021-07-05T20:39:02.049213Z"
    }
   },
   "outputs": [],
   "source": [
    "from nltk.tokenize import word_tokenize\n",
    "print(word_tokenize(document))"
   ]
  },
  {
   "cell_type": "code",
   "execution_count": null,
   "metadata": {
    "execution": {
     "iopub.execute_input": "2021-07-05T20:39:02.07749Z",
     "iopub.status.busy": "2021-07-05T20:39:02.07713Z",
     "iopub.status.idle": "2021-07-05T20:39:02.083724Z",
     "shell.execute_reply": "2021-07-05T20:39:02.082646Z",
     "shell.execute_reply.started": "2021-07-05T20:39:02.077457Z"
    }
   },
   "outputs": [],
   "source": [
    "from nltk.tokenize import sent_tokenize\n",
    "print(sent_tokenize(document))"
   ]
  },
  {
   "cell_type": "code",
   "execution_count": null,
   "metadata": {
    "execution": {
     "iopub.execute_input": "2021-07-05T20:39:02.085667Z",
     "iopub.status.busy": "2021-07-05T20:39:02.085293Z",
     "iopub.status.idle": "2021-07-05T20:39:02.099046Z",
     "shell.execute_reply": "2021-07-05T20:39:02.097918Z",
     "shell.execute_reply.started": "2021-07-05T20:39:02.085629Z"
    }
   },
   "outputs": [],
   "source": [
    "message = \"i recently watched this show called mindhunters:). i totally loved it 😍. it was gr8 <3. #bingewatching #nothingtodo 😎\""
   ]
  },
  {
   "cell_type": "code",
   "execution_count": null,
   "metadata": {
    "execution": {
     "iopub.execute_input": "2021-07-05T20:39:02.100911Z",
     "iopub.status.busy": "2021-07-05T20:39:02.100411Z",
     "iopub.status.idle": "2021-07-05T20:39:02.118251Z",
     "shell.execute_reply": "2021-07-05T20:39:02.117182Z",
     "shell.execute_reply.started": "2021-07-05T20:39:02.100877Z"
    }
   },
   "outputs": [],
   "source": [
    "word_tokenize(message)"
   ]
  },
  {
   "cell_type": "code",
   "execution_count": null,
   "metadata": {
    "execution": {
     "iopub.execute_input": "2021-07-05T20:39:02.123974Z",
     "iopub.status.busy": "2021-07-05T20:39:02.123575Z",
     "iopub.status.idle": "2021-07-05T20:39:02.132103Z",
     "shell.execute_reply": "2021-07-05T20:39:02.130628Z",
     "shell.execute_reply.started": "2021-07-05T20:39:02.123939Z"
    }
   },
   "outputs": [],
   "source": [
    "from nltk.tokenize import TweetTokenizer\n",
    "tweet_tokenizer=TweetTokenizer()"
   ]
  },
  {
   "cell_type": "code",
   "execution_count": null,
   "metadata": {
    "execution": {
     "iopub.execute_input": "2021-07-05T20:39:02.134825Z",
     "iopub.status.busy": "2021-07-05T20:39:02.134399Z",
     "iopub.status.idle": "2021-07-05T20:39:02.148273Z",
     "shell.execute_reply": "2021-07-05T20:39:02.147243Z",
     "shell.execute_reply.started": "2021-07-05T20:39:02.134787Z"
    }
   },
   "outputs": [],
   "source": [
    "tweet_tokenizer.tokenize(message)\n",
    "#hashtags and smiles are managed well using Tweet Tokenizer()"
   ]
  },
  {
   "cell_type": "code",
   "execution_count": null,
   "metadata": {
    "execution": {
     "iopub.execute_input": "2021-07-05T20:39:02.149715Z",
     "iopub.status.busy": "2021-07-05T20:39:02.149424Z",
     "iopub.status.idle": "2021-07-05T20:39:02.164554Z",
     "shell.execute_reply": "2021-07-05T20:39:02.163507Z",
     "shell.execute_reply.started": "2021-07-05T20:39:02.149687Z"
    }
   },
   "outputs": [],
   "source": [
    "from nltk.tokenize import regexp_tokenize\n",
    "message = \"i recently watched this show called mindhunters:). i totally loved it 😍. it was gr8 <3. #bingewatching #nothingtodo 😎\"\n",
    "pattern = \"#[\\w]+\""
   ]
  },
  {
   "cell_type": "code",
   "execution_count": null,
   "metadata": {
    "execution": {
     "iopub.execute_input": "2021-07-05T20:39:02.166163Z",
     "iopub.status.busy": "2021-07-05T20:39:02.165827Z",
     "iopub.status.idle": "2021-07-05T20:39:02.182151Z",
     "shell.execute_reply": "2021-07-05T20:39:02.180894Z",
     "shell.execute_reply.started": "2021-07-05T20:39:02.166114Z"
    }
   },
   "outputs": [],
   "source": [
    "#re.findall(pattern,message)\n",
    "regexp_tokenize(message,pattern)"
   ]
  },
  {
   "cell_type": "markdown",
   "metadata": {},
   "source": [
    "## Step 3: Consolidating Pre-processing Steps & using it on a Spam vs Ham usecase"
   ]
  },
  {
   "cell_type": "code",
   "execution_count": null,
   "metadata": {
    "execution": {
     "iopub.execute_input": "2021-07-05T20:39:02.184273Z",
     "iopub.status.busy": "2021-07-05T20:39:02.183773Z",
     "iopub.status.idle": "2021-07-05T20:39:02.213438Z",
     "shell.execute_reply": "2021-07-05T20:39:02.212356Z",
     "shell.execute_reply.started": "2021-07-05T20:39:02.184222Z"
    }
   },
   "outputs": [],
   "source": [
    "import pandas as pd\n",
    "import os\n",
    "for dirname, _, filenames in os.walk('/kaggle/input'):\n",
    "    for filename in filenames:\n",
    "        path=os.path.join(dirname, filename)\n",
    "        print(os.path.join(dirname, filename))\n"
   ]
  },
  {
   "cell_type": "code",
   "execution_count": null,
   "metadata": {
    "execution": {
     "iopub.execute_input": "2021-07-05T20:39:02.215051Z",
     "iopub.status.busy": "2021-07-05T20:39:02.21473Z",
     "iopub.status.idle": "2021-07-05T20:39:02.250752Z",
     "shell.execute_reply": "2021-07-05T20:39:02.249513Z",
     "shell.execute_reply.started": "2021-07-05T20:39:02.215018Z"
    }
   },
   "outputs": [],
   "source": [
    "df=pd.read_csv(path, sep='\\t', names=['label','message'])"
   ]
  },
  {
   "cell_type": "code",
   "execution_count": null,
   "metadata": {
    "execution": {
     "iopub.execute_input": "2021-07-05T20:39:02.252831Z",
     "iopub.status.busy": "2021-07-05T20:39:02.252376Z",
     "iopub.status.idle": "2021-07-05T20:39:02.27439Z",
     "shell.execute_reply": "2021-07-05T20:39:02.272624Z",
     "shell.execute_reply.started": "2021-07-05T20:39:02.252784Z"
    }
   },
   "outputs": [],
   "source": [
    "df.head()"
   ]
  },
  {
   "cell_type": "code",
   "execution_count": null,
   "metadata": {
    "execution": {
     "iopub.execute_input": "2021-07-05T20:39:02.27663Z",
     "iopub.status.busy": "2021-07-05T20:39:02.276067Z",
     "iopub.status.idle": "2021-07-05T20:39:02.287802Z",
     "shell.execute_reply": "2021-07-05T20:39:02.286716Z",
     "shell.execute_reply.started": "2021-07-05T20:39:02.276588Z"
    }
   },
   "outputs": [],
   "source": [
    "#Now new preprocessing\n",
    "from nltk.stem.snowball import SnowballStemmer\n",
    "stemmer=SnowballStemmer('english')\n",
    " \n",
    "from nltk.stem import WordNetLemmatizer\n",
    "lemmatizer = WordNetLemmatizer()    \n",
    "\n",
    "def preprocess(document, stem=True):\n",
    "    'changes document to lower case and removes stopwords'\n",
    "\n",
    "    # change sentence to lower case\n",
    "    document = document.lower()\n",
    "\n",
    "    # tokenize into words\n",
    "    words = word_tokenize(document)\n",
    "    \n",
    "    final_words=[]\n",
    "    for i in words:\n",
    "        result=re.search('([\\w]+)',i)\n",
    "        try:\n",
    "            match=result.group(1)\n",
    "        except AttributeError:\n",
    "            match=result\n",
    "        final_words.append(match)\n",
    "    final_words=list(filter(None, (final_words)))\n",
    "    final_words=list(map(lambda x: x.lower(),final_words))\n",
    "    words=final_words    \n",
    "\n",
    "    # remove stop words\n",
    "    words = [word for word in words if word not in stopwords.words(\"english\")]\n",
    "    \n",
    "    #stemming and lematization:\n",
    "    \n",
    "# Stemming is a process that stems or removes last few characters from a word, \n",
    "#often leading to incorrect meanings and spelling. Lemmatization considers the context \n",
    "#and converts the word to its meaningful base form, which is called Lemma. \n",
    "#For instance, stemming the word 'Caring' would return 'Car'\n",
    "    if stem:\n",
    "        words=[stemmer.stem(i) for i in words]\n",
    "    else:\n",
    "        words=[lemmatizer.lemmatize(i,pos='v') for i in words]\n",
    "    # join words to make sentence\n",
    "    document = \" \".join(map( str, words))\n",
    "    \n",
    "    return document\n"
   ]
  },
  {
   "cell_type": "code",
   "execution_count": null,
   "metadata": {
    "execution": {
     "iopub.execute_input": "2021-07-05T20:39:02.289442Z",
     "iopub.status.busy": "2021-07-05T20:39:02.289101Z",
     "iopub.status.idle": "2021-07-05T20:39:02.464844Z",
     "shell.execute_reply": "2021-07-05T20:39:02.463886Z",
     "shell.execute_reply.started": "2021-07-05T20:39:02.289411Z"
    }
   },
   "outputs": [],
   "source": [
    "#stemmed message\n",
    "messages=[preprocess(i,stem=True) for i in df.iloc[0:50].message]\n",
    "#bag of words\n",
    "from sklearn.feature_extraction.text import CountVectorizer\n",
    "vectorizer=CountVectorizer()\n",
    "model_stem=vectorizer.fit_transform(messages)"
   ]
  },
  {
   "cell_type": "code",
   "execution_count": null,
   "metadata": {
    "execution": {
     "iopub.execute_input": "2021-07-05T20:39:02.466812Z",
     "iopub.status.busy": "2021-07-05T20:39:02.466381Z",
     "iopub.status.idle": "2021-07-05T20:39:02.475761Z",
     "shell.execute_reply": "2021-07-05T20:39:02.474548Z",
     "shell.execute_reply.started": "2021-07-05T20:39:02.466768Z"
    }
   },
   "outputs": [],
   "source": [
    "messages"
   ]
  },
  {
   "cell_type": "code",
   "execution_count": null,
   "metadata": {
    "execution": {
     "iopub.execute_input": "2021-07-05T20:39:02.477874Z",
     "iopub.status.busy": "2021-07-05T20:39:02.477514Z",
     "iopub.status.idle": "2021-07-05T20:39:02.489108Z",
     "shell.execute_reply": "2021-07-05T20:39:02.487906Z",
     "shell.execute_reply.started": "2021-07-05T20:39:02.47784Z"
    }
   },
   "outputs": [],
   "source": [
    "model_stem.shape"
   ]
  },
  {
   "cell_type": "code",
   "execution_count": null,
   "metadata": {
    "execution": {
     "iopub.execute_input": "2021-07-05T20:39:02.49077Z",
     "iopub.status.busy": "2021-07-05T20:39:02.490358Z",
     "iopub.status.idle": "2021-07-05T20:39:02.503389Z",
     "shell.execute_reply": "2021-07-05T20:39:02.502179Z",
     "shell.execute_reply.started": "2021-07-05T20:39:02.490726Z"
    },
    "scrolled": true
   },
   "outputs": [],
   "source": [
    "len(vectorizer.get_feature_names())"
   ]
  },
  {
   "cell_type": "markdown",
   "metadata": {},
   "source": [
    "347 features with stemmer"
   ]
  },
  {
   "cell_type": "code",
   "execution_count": null,
   "metadata": {
    "execution": {
     "iopub.execute_input": "2021-07-05T20:39:02.505508Z",
     "iopub.status.busy": "2021-07-05T20:39:02.50519Z",
     "iopub.status.idle": "2021-07-05T20:39:04.812005Z",
     "shell.execute_reply": "2021-07-05T20:39:04.811Z",
     "shell.execute_reply.started": "2021-07-05T20:39:02.505478Z"
    }
   },
   "outputs": [],
   "source": [
    "messages=[preprocess(i,stem=False) for i in df.iloc[0:50].message]\n",
    "#bag of words\n",
    "from sklearn.feature_extraction.text import CountVectorizer\n",
    "vectorizer=CountVectorizer()\n",
    "model_lem=vectorizer.fit_transform(messages)"
   ]
  },
  {
   "cell_type": "code",
   "execution_count": null,
   "metadata": {
    "execution": {
     "iopub.execute_input": "2021-07-05T20:39:04.813922Z",
     "iopub.status.busy": "2021-07-05T20:39:04.813426Z",
     "iopub.status.idle": "2021-07-05T20:39:04.820197Z",
     "shell.execute_reply": "2021-07-05T20:39:04.81905Z",
     "shell.execute_reply.started": "2021-07-05T20:39:04.813878Z"
    }
   },
   "outputs": [],
   "source": [
    "model_lem.shape"
   ]
  },
  {
   "cell_type": "markdown",
   "metadata": {},
   "source": [
    "349 features with lemmatization"
   ]
  },
  {
   "cell_type": "code",
   "execution_count": null,
   "metadata": {
    "execution": {
     "iopub.execute_input": "2021-07-05T20:39:04.821869Z",
     "iopub.status.busy": "2021-07-05T20:39:04.821572Z",
     "iopub.status.idle": "2021-07-05T20:39:04.871538Z",
     "shell.execute_reply": "2021-07-05T20:39:04.870509Z",
     "shell.execute_reply.started": "2021-07-05T20:39:04.821841Z"
    }
   },
   "outputs": [],
   "source": [
    "pd.DataFrame(model_lem.toarray(), columns=vectorizer.get_feature_names())"
   ]
  },
  {
   "cell_type": "code",
   "execution_count": null,
   "metadata": {
    "execution": {
     "iopub.execute_input": "2021-07-05T20:39:04.87356Z",
     "iopub.status.busy": "2021-07-05T20:39:04.872977Z",
     "iopub.status.idle": "2021-07-05T20:39:04.877904Z",
     "shell.execute_reply": "2021-07-05T20:39:04.876849Z",
     "shell.execute_reply.started": "2021-07-05T20:39:04.873515Z"
    }
   },
   "outputs": [],
   "source": [
    "#Stemming doesn't apply any background knowledge whereas Lemmatization is a different process where understanding is built."
   ]
  },
  {
   "cell_type": "code",
   "execution_count": null,
   "metadata": {
    "execution": {
     "iopub.execute_input": "2021-07-05T20:39:04.879329Z",
     "iopub.status.busy": "2021-07-05T20:39:04.879026Z",
     "iopub.status.idle": "2021-07-05T20:39:04.894216Z",
     "shell.execute_reply": "2021-07-05T20:39:04.89301Z",
     "shell.execute_reply.started": "2021-07-05T20:39:04.8793Z"
    }
   },
   "outputs": [],
   "source": [
    "messages"
   ]
  },
  {
   "cell_type": "markdown",
   "metadata": {},
   "source": [
    "## Step 4: Using TFIDF (short for term frequency–inverse document frequency)"
   ]
  },
  {
   "cell_type": "markdown",
   "metadata": {},
   "source": [
    "### TFIDF is a numerical statistic that is intended to reflect how important a word is to a document in a collection or corpus."
   ]
  },
  {
   "cell_type": "code",
   "execution_count": null,
   "metadata": {
    "execution": {
     "iopub.execute_input": "2021-07-05T20:39:04.895869Z",
     "iopub.status.busy": "2021-07-05T20:39:04.895573Z",
     "iopub.status.idle": "2021-07-05T20:39:04.917456Z",
     "shell.execute_reply": "2021-07-05T20:39:04.916233Z",
     "shell.execute_reply.started": "2021-07-05T20:39:04.89584Z"
    }
   },
   "outputs": [],
   "source": [
    "#TF-IDF\n",
    "from sklearn.feature_extraction.text import TfidfVectorizer\n",
    "vectorize= TfidfVectorizer()\n",
    "model_tf_idf= vectorize.fit_transform(messages)"
   ]
  },
  {
   "cell_type": "code",
   "execution_count": null,
   "metadata": {
    "execution": {
     "iopub.execute_input": "2021-07-05T20:39:04.919454Z",
     "iopub.status.busy": "2021-07-05T20:39:04.919104Z",
     "iopub.status.idle": "2021-07-05T20:39:04.927267Z",
     "shell.execute_reply": "2021-07-05T20:39:04.926252Z",
     "shell.execute_reply.started": "2021-07-05T20:39:04.919421Z"
    }
   },
   "outputs": [],
   "source": [
    "model_tf_idf.shape"
   ]
  },
  {
   "cell_type": "code",
   "execution_count": null,
   "metadata": {
    "execution": {
     "iopub.execute_input": "2021-07-05T20:39:04.928798Z",
     "iopub.status.busy": "2021-07-05T20:39:04.928493Z",
     "iopub.status.idle": "2021-07-05T20:39:05.013661Z",
     "shell.execute_reply": "2021-07-05T20:39:05.012362Z",
     "shell.execute_reply.started": "2021-07-05T20:39:04.928768Z"
    }
   },
   "outputs": [],
   "source": [
    "pd.DataFrame(model_tf_idf.toarray(),columns=vectorizer.get_feature_names())"
   ]
  }
 ],
 "metadata": {
  "kernelspec": {
   "display_name": "Python 3",
   "language": "python",
   "name": "python3"
  },
  "language_info": {
   "codemirror_mode": {
    "name": "ipython",
    "version": 3
   },
   "file_extension": ".py",
   "mimetype": "text/x-python",
   "name": "python",
   "nbconvert_exporter": "python",
   "pygments_lexer": "ipython3",
   "version": "3.9.12"
  }
 },
 "nbformat": 4,
 "nbformat_minor": 4
}
