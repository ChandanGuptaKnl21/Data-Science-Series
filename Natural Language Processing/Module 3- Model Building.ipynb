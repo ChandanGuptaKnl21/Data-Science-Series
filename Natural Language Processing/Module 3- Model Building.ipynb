{
 "cells": [
  {
   "cell_type": "code",
   "execution_count": null,
   "metadata": {
    "_cell_guid": "b1076dfc-b9ad-4769-8c92-a6c4dae69d19",
    "_uuid": "8f2839f25d086af736a60e9eeb907d3b93b6e0e5",
    "execution": {
     "iopub.execute_input": "2021-07-05T21:13:27.815233Z",
     "iopub.status.busy": "2021-07-05T21:13:27.814644Z",
     "iopub.status.idle": "2021-07-05T21:13:27.831406Z",
     "shell.execute_reply": "2021-07-05T21:13:27.830205Z",
     "shell.execute_reply.started": "2021-07-05T21:13:27.815179Z"
    }
   },
   "outputs": [],
   "source": [
    "# This Python 3 environment comes with many helpful analytics libraries installed\n",
    "# It is defined by the kaggle/python Docker image: https://github.com/kaggle/docker-python\n",
    "# For example, here's several helpful packages to load\n",
    "\n",
    "import numpy as np # linear algebra\n",
    "import pandas as pd # data processing, CSV file I/O (e.g. pd.read_csv)\n",
    "\n",
    "# Input data files are available in the read-only \"../input/\" directory\n",
    "# For example, running this (by clicking run or pressing Shift+Enter) will list all files under the input directory\n",
    "\n",
    "import os\n",
    "for dirname, _, filenames in os.walk('/kaggle/input'):\n",
    "    for filename in filenames:\n",
    "        file1=os.path.join(dirname, filename)\n",
    "        print(os.path.join(dirname, filename))\n",
    "\n",
    "# You can write up to 20GB to the current directory (/kaggle/working/) that gets preserved as output when you create a version using \"Save & Run All\" \n",
    "# You can also write temporary files to /kaggle/temp/, but they won't be saved outside of the current session"
   ]
  },
  {
   "cell_type": "code",
   "execution_count": null,
   "metadata": {
    "execution": {
     "iopub.execute_input": "2021-07-05T21:13:27.984361Z",
     "iopub.status.busy": "2021-07-05T21:13:27.984008Z",
     "iopub.status.idle": "2021-07-05T21:13:28.030431Z",
     "shell.execute_reply": "2021-07-05T21:13:28.029675Z",
     "shell.execute_reply.started": "2021-07-05T21:13:27.984331Z"
    }
   },
   "outputs": [],
   "source": [
    "email=pd.read_csv(file1,encoding = \"latin-1\")\n",
    "email = email[['v1', 'v2']]\n",
    "email = email.rename(columns = {'v1': 'label', 'v2': 'message'})"
   ]
  },
  {
   "cell_type": "code",
   "execution_count": null,
   "metadata": {
    "execution": {
     "iopub.execute_input": "2021-07-05T21:13:28.127205Z",
     "iopub.status.busy": "2021-07-05T21:13:28.126811Z",
     "iopub.status.idle": "2021-07-05T21:13:28.145341Z",
     "shell.execute_reply": "2021-07-05T21:13:28.144171Z",
     "shell.execute_reply.started": "2021-07-05T21:13:28.12717Z"
    }
   },
   "outputs": [],
   "source": [
    "email.head()"
   ]
  },
  {
   "cell_type": "code",
   "execution_count": null,
   "metadata": {
    "execution": {
     "iopub.execute_input": "2021-07-05T21:13:28.258649Z",
     "iopub.status.busy": "2021-07-05T21:13:28.258154Z",
     "iopub.status.idle": "2021-07-05T21:13:28.285508Z",
     "shell.execute_reply": "2021-07-05T21:13:28.284766Z",
     "shell.execute_reply.started": "2021-07-05T21:13:28.258617Z"
    }
   },
   "outputs": [],
   "source": [
    "email.label.value_counts(normalize=True)"
   ]
  },
  {
   "cell_type": "code",
   "execution_count": null,
   "metadata": {
    "execution": {
     "iopub.execute_input": "2021-07-05T21:13:28.34511Z",
     "iopub.status.busy": "2021-07-05T21:13:28.343662Z",
     "iopub.status.idle": "2021-07-05T21:13:28.353876Z",
     "shell.execute_reply": "2021-07-05T21:13:28.353071Z",
     "shell.execute_reply.started": "2021-07-05T21:13:28.345062Z"
    }
   },
   "outputs": [],
   "source": [
    "email['label']=email['label'].apply(lambda x: 0 if x=='ham' else 1 )"
   ]
  },
  {
   "cell_type": "code",
   "execution_count": null,
   "metadata": {
    "execution": {
     "iopub.execute_input": "2021-07-05T21:13:28.469091Z",
     "iopub.status.busy": "2021-07-05T21:13:28.468549Z",
     "iopub.status.idle": "2021-07-05T21:13:28.478945Z",
     "shell.execute_reply": "2021-07-05T21:13:28.477902Z",
     "shell.execute_reply.started": "2021-07-05T21:13:28.469055Z"
    }
   },
   "outputs": [],
   "source": [
    "email.label.value_counts(normalize=True)"
   ]
  },
  {
   "cell_type": "markdown",
   "metadata": {},
   "source": [
    "## Data Preprocessing"
   ]
  },
  {
   "cell_type": "markdown",
   "metadata": {},
   "source": [
    "#### Saving as Message & Label as a tuple"
   ]
  },
  {
   "cell_type": "code",
   "execution_count": null,
   "metadata": {
    "execution": {
     "iopub.execute_input": "2021-07-05T21:13:29.148261Z",
     "iopub.status.busy": "2021-07-05T21:13:29.147805Z",
     "iopub.status.idle": "2021-07-05T21:13:29.656339Z",
     "shell.execute_reply": "2021-07-05T21:13:29.65531Z",
     "shell.execute_reply.started": "2021-07-05T21:13:29.148225Z"
    }
   },
   "outputs": [],
   "source": [
    "data=[]\n",
    "for i,j in email.iterrows():\n",
    "    data.append((j['message'],j['label']))"
   ]
  },
  {
   "cell_type": "code",
   "execution_count": null,
   "metadata": {
    "execution": {
     "iopub.execute_input": "2021-07-05T21:13:29.657907Z",
     "iopub.status.busy": "2021-07-05T21:13:29.657616Z",
     "iopub.status.idle": "2021-07-05T21:13:29.663779Z",
     "shell.execute_reply": "2021-07-05T21:13:29.662661Z",
     "shell.execute_reply.started": "2021-07-05T21:13:29.657876Z"
    }
   },
   "outputs": [],
   "source": [
    "data[0:5]"
   ]
  },
  {
   "cell_type": "code",
   "execution_count": null,
   "metadata": {
    "execution": {
     "iopub.execute_input": "2021-07-05T21:13:29.665479Z",
     "iopub.status.busy": "2021-07-05T21:13:29.665178Z",
     "iopub.status.idle": "2021-07-05T21:13:29.679852Z",
     "shell.execute_reply": "2021-07-05T21:13:29.67869Z",
     "shell.execute_reply.started": "2021-07-05T21:13:29.66545Z"
    }
   },
   "outputs": [],
   "source": [
    "len(data)"
   ]
  },
  {
   "cell_type": "markdown",
   "metadata": {},
   "source": [
    "#### Creating a preprocessing function"
   ]
  },
  {
   "cell_type": "code",
   "execution_count": null,
   "metadata": {
    "execution": {
     "iopub.execute_input": "2021-07-05T21:13:29.698896Z",
     "iopub.status.busy": "2021-07-05T21:13:29.698376Z",
     "iopub.status.idle": "2021-07-05T21:13:30.50071Z",
     "shell.execute_reply": "2021-07-05T21:13:30.499684Z",
     "shell.execute_reply.started": "2021-07-05T21:13:29.698863Z"
    }
   },
   "outputs": [],
   "source": [
    "#Preprocessing Libraries \n",
    "from  nltk.tokenize import word_tokenize\n",
    "from nltk.corpus import stopwords\n",
    "from nltk.stem.snowball import SnowballStemmer\n",
    "from nltk.stem import WordNetLemmatizer\n",
    "from nltk import FreqDist"
   ]
  },
  {
   "cell_type": "code",
   "execution_count": null,
   "metadata": {
    "execution": {
     "iopub.execute_input": "2021-07-05T21:13:30.502402Z",
     "iopub.status.busy": "2021-07-05T21:13:30.502124Z",
     "iopub.status.idle": "2021-07-05T21:13:30.507122Z",
     "shell.execute_reply": "2021-07-05T21:13:30.50596Z",
     "shell.execute_reply.started": "2021-07-05T21:13:30.502374Z"
    }
   },
   "outputs": [],
   "source": [
    "#initialize\n",
    "stemmer=SnowballStemmer('english')\n",
    "lemmatizer=WordNetLemmatizer()"
   ]
  },
  {
   "cell_type": "code",
   "execution_count": null,
   "metadata": {
    "execution": {
     "iopub.execute_input": "2021-07-05T21:13:30.50986Z",
     "iopub.status.busy": "2021-07-05T21:13:30.509381Z",
     "iopub.status.idle": "2021-07-05T21:13:30.569321Z",
     "shell.execute_reply": "2021-07-05T21:13:30.568112Z",
     "shell.execute_reply.started": "2021-07-05T21:13:30.509789Z"
    }
   },
   "outputs": [],
   "source": [
    "import re\n",
    "#cleaning data\n",
    "cleaned_data=[]\n",
    "\n",
    "for (i,j) in data:\n",
    "    result=re.findall('[\\w]+',i)\n",
    "    message=' '.join(result)\n",
    "    cleaned_data.append((message,j))\n",
    "    "
   ]
  },
  {
   "cell_type": "code",
   "execution_count": null,
   "metadata": {
    "execution": {
     "iopub.execute_input": "2021-07-05T21:13:30.571462Z",
     "iopub.status.busy": "2021-07-05T21:13:30.571077Z",
     "iopub.status.idle": "2021-07-05T21:13:30.578485Z",
     "shell.execute_reply": "2021-07-05T21:13:30.577351Z",
     "shell.execute_reply.started": "2021-07-05T21:13:30.571425Z"
    }
   },
   "outputs": [],
   "source": [
    "cleaned_data[0:5]"
   ]
  },
  {
   "cell_type": "code",
   "execution_count": null,
   "metadata": {
    "execution": {
     "iopub.execute_input": "2021-07-05T21:13:31.064592Z",
     "iopub.status.busy": "2021-07-05T21:13:31.064226Z",
     "iopub.status.idle": "2021-07-05T21:13:31.07112Z",
     "shell.execute_reply": "2021-07-05T21:13:31.069963Z",
     "shell.execute_reply.started": "2021-07-05T21:13:31.06456Z"
    }
   },
   "outputs": [],
   "source": [
    "def preprocessing(document,stem=True):\n",
    "    \n",
    "    words=document.lower() \n",
    "    \n",
    "    words=word_tokenize(words)\n",
    "    \n",
    "    words=[i for i in words if i not in stopwords.words('english')]\n",
    "    \n",
    "    if stem:\n",
    "        words=[stemmer.stem(i) for i in words]\n",
    "    else:\n",
    "        words=[lemmatizer.lemmatize(i) for i in words]\n",
    "    \n",
    "    new_document=' '.join(words)\n",
    "    \n",
    "    return new_document\n",
    "    \n",
    "    "
   ]
  },
  {
   "cell_type": "code",
   "execution_count": null,
   "metadata": {
    "execution": {
     "iopub.execute_input": "2021-07-05T21:13:31.858163Z",
     "iopub.status.busy": "2021-07-05T21:13:31.857797Z",
     "iopub.status.idle": "2021-07-05T21:13:47.254414Z",
     "shell.execute_reply": "2021-07-05T21:13:47.253265Z",
     "shell.execute_reply.started": "2021-07-05T21:13:31.858131Z"
    }
   },
   "outputs": [],
   "source": [
    "dataset=[]\n",
    "for (i,j) in cleaned_data:\n",
    "    x=preprocessing(i,stem=False)\n",
    "    dataset.append((x,j))"
   ]
  },
  {
   "cell_type": "code",
   "execution_count": null,
   "metadata": {
    "execution": {
     "iopub.execute_input": "2021-07-05T21:13:47.256219Z",
     "iopub.status.busy": "2021-07-05T21:13:47.255936Z",
     "iopub.status.idle": "2021-07-05T21:13:47.264202Z",
     "shell.execute_reply": "2021-07-05T21:13:47.263377Z",
     "shell.execute_reply.started": "2021-07-05T21:13:47.256191Z"
    }
   },
   "outputs": [],
   "source": [
    "df = pd.DataFrame(dataset, columns =['message','label'])"
   ]
  },
  {
   "cell_type": "code",
   "execution_count": null,
   "metadata": {
    "execution": {
     "iopub.execute_input": "2021-07-05T21:13:47.265979Z",
     "iopub.status.busy": "2021-07-05T21:13:47.265556Z",
     "iopub.status.idle": "2021-07-05T21:13:47.284449Z",
     "shell.execute_reply": "2021-07-05T21:13:47.283405Z",
     "shell.execute_reply.started": "2021-07-05T21:13:47.265947Z"
    }
   },
   "outputs": [],
   "source": [
    "df.head()"
   ]
  },
  {
   "cell_type": "markdown",
   "metadata": {},
   "source": [
    "### Creating Train and Test Data"
   ]
  },
  {
   "cell_type": "code",
   "execution_count": null,
   "metadata": {
    "execution": {
     "iopub.execute_input": "2021-07-05T21:13:47.286439Z",
     "iopub.status.busy": "2021-07-05T21:13:47.286005Z",
     "iopub.status.idle": "2021-07-05T21:13:47.299587Z",
     "shell.execute_reply": "2021-07-05T21:13:47.298563Z",
     "shell.execute_reply.started": "2021-07-05T21:13:47.286395Z"
    }
   },
   "outputs": [],
   "source": [
    "from sklearn.model_selection import train_test_split\n",
    "X_train, X_test, y_train, y_test = train_test_split(df['message'], df['label'], test_size = 0.2, random_state = 1)"
   ]
  },
  {
   "cell_type": "code",
   "execution_count": null,
   "metadata": {
    "execution": {
     "iopub.execute_input": "2021-07-05T21:13:47.301406Z",
     "iopub.status.busy": "2021-07-05T21:13:47.300983Z",
     "iopub.status.idle": "2021-07-05T21:13:47.315593Z",
     "shell.execute_reply": "2021-07-05T21:13:47.314328Z",
     "shell.execute_reply.started": "2021-07-05T21:13:47.301362Z"
    }
   },
   "outputs": [],
   "source": [
    "print(len(X_train)), print(len(X_test)), print(len(y_train)), print(len(y_test))"
   ]
  },
  {
   "cell_type": "code",
   "execution_count": null,
   "metadata": {
    "execution": {
     "iopub.execute_input": "2021-07-05T21:13:47.319078Z",
     "iopub.status.busy": "2021-07-05T21:13:47.318736Z",
     "iopub.status.idle": "2021-07-05T21:13:47.329832Z",
     "shell.execute_reply": "2021-07-05T21:13:47.328859Z",
     "shell.execute_reply.started": "2021-07-05T21:13:47.319045Z"
    }
   },
   "outputs": [],
   "source": [
    "X_train"
   ]
  },
  {
   "cell_type": "code",
   "execution_count": null,
   "metadata": {
    "execution": {
     "iopub.execute_input": "2021-07-05T21:14:15.213978Z",
     "iopub.status.busy": "2021-07-05T21:14:15.213584Z",
     "iopub.status.idle": "2021-07-05T21:14:15.316889Z",
     "shell.execute_reply": "2021-07-05T21:14:15.31608Z",
     "shell.execute_reply.started": "2021-07-05T21:14:15.21394Z"
    }
   },
   "outputs": [],
   "source": [
    "from sklearn.feature_extraction.text import TfidfVectorizer\n",
    "vectorize= TfidfVectorizer()\n",
    "X_train_trans=vectorize.fit_transform(X_train)"
   ]
  },
  {
   "cell_type": "markdown",
   "metadata": {},
   "source": [
    "###  Buiding the model"
   ]
  },
  {
   "cell_type": "code",
   "execution_count": null,
   "metadata": {
    "execution": {
     "iopub.execute_input": "2021-07-05T21:14:23.705724Z",
     "iopub.status.busy": "2021-07-05T21:14:23.705171Z",
     "iopub.status.idle": "2021-07-05T21:14:25.676392Z",
     "shell.execute_reply": "2021-07-05T21:14:25.675628Z",
     "shell.execute_reply.started": "2021-07-05T21:14:23.705676Z"
    }
   },
   "outputs": [],
   "source": [
    "#svm\n",
    "from sklearn.svm import SVC\n",
    "svm = SVC(C=1000)\n",
    "svm=svm.fit(X_train_trans, y_train)"
   ]
  },
  {
   "cell_type": "code",
   "execution_count": null,
   "metadata": {
    "execution": {
     "iopub.execute_input": "2021-07-05T21:14:26.113156Z",
     "iopub.status.busy": "2021-07-05T21:14:26.112589Z",
     "iopub.status.idle": "2021-07-05T21:14:27.273511Z",
     "shell.execute_reply": "2021-07-05T21:14:27.272437Z",
     "shell.execute_reply.started": "2021-07-05T21:14:26.113101Z"
    }
   },
   "outputs": [],
   "source": [
    "#logistic regression model \n",
    "from sklearn.ensemble import RandomForestClassifier\n",
    "ran_tree = RandomForestClassifier().fit(X_train_trans, y_train)\n"
   ]
  },
  {
   "cell_type": "code",
   "execution_count": null,
   "metadata": {
    "execution": {
     "iopub.execute_input": "2021-07-05T21:14:28.050042Z",
     "iopub.status.busy": "2021-07-05T21:14:28.049312Z",
     "iopub.status.idle": "2021-07-05T21:14:28.099184Z",
     "shell.execute_reply": "2021-07-05T21:14:28.097881Z",
     "shell.execute_reply.started": "2021-07-05T21:14:28.049977Z"
    }
   },
   "outputs": [],
   "source": [
    "pd.DataFrame(zip(vectorize.get_feature_names(),ran_tree.feature_importances_,)).sort_values(by=1, ascending=False).head(10)"
   ]
  },
  {
   "cell_type": "code",
   "execution_count": null,
   "metadata": {
    "execution": {
     "iopub.execute_input": "2021-07-05T21:14:28.27444Z",
     "iopub.status.busy": "2021-07-05T21:14:28.273868Z",
     "iopub.status.idle": "2021-07-05T21:14:28.35688Z",
     "shell.execute_reply": "2021-07-05T21:14:28.355783Z",
     "shell.execute_reply.started": "2021-07-05T21:14:28.274389Z"
    }
   },
   "outputs": [],
   "source": [
    "#logistic regression model \n",
    "from sklearn.linear_model import LogisticRegression\n",
    "log = LogisticRegression().fit(X_train_trans, y_train)"
   ]
  },
  {
   "cell_type": "markdown",
   "metadata": {},
   "source": [
    "### Evaluation"
   ]
  },
  {
   "cell_type": "code",
   "execution_count": null,
   "metadata": {
    "execution": {
     "iopub.execute_input": "2021-07-05T21:19:47.503525Z",
     "iopub.status.busy": "2021-07-05T21:19:47.503138Z",
     "iopub.status.idle": "2021-07-05T21:19:47.528965Z",
     "shell.execute_reply": "2021-07-05T21:19:47.528018Z",
     "shell.execute_reply.started": "2021-07-05T21:19:47.503489Z"
    }
   },
   "outputs": [],
   "source": [
    "X_test_trans=vectorize.transform(X_test)"
   ]
  },
  {
   "cell_type": "code",
   "execution_count": null,
   "metadata": {
    "execution": {
     "iopub.execute_input": "2021-07-05T21:19:47.692601Z",
     "iopub.status.busy": "2021-07-05T21:19:47.6922Z",
     "iopub.status.idle": "2021-07-05T21:19:47.765624Z",
     "shell.execute_reply": "2021-07-05T21:19:47.764614Z",
     "shell.execute_reply.started": "2021-07-05T21:19:47.692566Z"
    }
   },
   "outputs": [],
   "source": [
    "from sklearn.metrics import classification_report\n",
    "print(classification_report(y_test,ran_tree.predict(X_test_trans)))"
   ]
  },
  {
   "cell_type": "code",
   "execution_count": null,
   "metadata": {
    "execution": {
     "iopub.execute_input": "2021-07-05T21:19:48.453493Z",
     "iopub.status.busy": "2021-07-05T21:19:48.453139Z",
     "iopub.status.idle": "2021-07-05T21:19:48.465723Z",
     "shell.execute_reply": "2021-07-05T21:19:48.464645Z",
     "shell.execute_reply.started": "2021-07-05T21:19:48.453464Z"
    }
   },
   "outputs": [],
   "source": [
    "from sklearn.metrics import classification_report\n",
    "print(classification_report(y_test,log.predict(X_test_trans)))"
   ]
  }
 ],
 "metadata": {
  "kernelspec": {
   "display_name": "Python 3",
   "language": "python",
   "name": "python3"
  },
  "language_info": {
   "codemirror_mode": {
    "name": "ipython",
    "version": 3
   },
   "file_extension": ".py",
   "mimetype": "text/x-python",
   "name": "python",
   "nbconvert_exporter": "python",
   "pygments_lexer": "ipython3",
   "version": "3.9.12"
  }
 },
 "nbformat": 4,
 "nbformat_minor": 4
}
